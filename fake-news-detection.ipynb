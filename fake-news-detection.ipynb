{
 "cells": [
  {
   "cell_type": "markdown",
   "id": "2280a359",
   "metadata": {
    "papermill": {
     "duration": 0.046522,
     "end_time": "2022-05-30T00:43:45.227053",
     "exception": false,
     "start_time": "2022-05-30T00:43:45.180531",
     "status": "completed"
    },
    "tags": []
   },
   "source": [
    "# **FAKE NEWS DETECTION**"
   ]
  },
  {
   "cell_type": "markdown",
   "id": "776fc2b9",
   "metadata": {
    "papermill": {
     "duration": 0.045318,
     "end_time": "2022-05-30T00:43:45.318743",
     "exception": false,
     "start_time": "2022-05-30T00:43:45.273425",
     "status": "completed"
    },
    "tags": []
   },
   "source": [
    "Let us first load the libraries:"
   ]
  },
  {
   "cell_type": "code",
   "execution_count": 1,
   "id": "c0f1a7dd",
   "metadata": {
    "_cell_guid": "b1076dfc-b9ad-4769-8c92-a6c4dae69d19",
    "_uuid": "8f2839f25d086af736a60e9eeb907d3b93b6e0e5",
    "execution": {
     "iopub.execute_input": "2022-05-30T00:43:45.413639Z",
     "iopub.status.busy": "2022-05-30T00:43:45.413074Z",
     "iopub.status.idle": "2022-05-30T00:43:46.667383Z",
     "shell.execute_reply": "2022-05-30T00:43:46.666725Z"
    },
    "papermill": {
     "duration": 1.303297,
     "end_time": "2022-05-30T00:43:46.669661",
     "exception": false,
     "start_time": "2022-05-30T00:43:45.366364",
     "status": "completed"
    },
    "tags": []
   },
   "outputs": [],
   "source": [
    "import numpy as np # linear algebra\n",
    "import pandas as pd # data processing, CSV file I/O (e.g. pd.read_csv)\n",
    "\n",
    "import seaborn as sns\n",
    "import matplotlib.pyplot as plt\n",
    "\n",
    "import re\n",
    "import string\n",
    "\n",
    "from sklearn.model_selection import train_test_split\n",
    "from sklearn.metrics import accuracy_score\n",
    "from sklearn.metrics import classification_report"
   ]
  },
  {
   "cell_type": "markdown",
   "id": "40be3189",
   "metadata": {
    "papermill": {
     "duration": 0.044543,
     "end_time": "2022-05-30T00:43:46.759187",
     "exception": false,
     "start_time": "2022-05-30T00:43:46.714644",
     "status": "completed"
    },
    "tags": []
   },
   "source": [
    "Now, we import the dataset:"
   ]
  },
  {
   "cell_type": "code",
   "execution_count": 2,
   "id": "ca6bed66",
   "metadata": {
    "execution": {
     "iopub.execute_input": "2022-05-30T00:43:46.852741Z",
     "iopub.status.busy": "2022-05-30T00:43:46.852223Z",
     "iopub.status.idle": "2022-05-30T00:43:49.380808Z",
     "shell.execute_reply": "2022-05-30T00:43:49.379976Z"
    },
    "papermill": {
     "duration": 2.578785,
     "end_time": "2022-05-30T00:43:49.383218",
     "exception": false,
     "start_time": "2022-05-30T00:43:46.804433",
     "status": "completed"
    },
    "tags": []
   },
   "outputs": [],
   "source": [
    "data_fake = pd.read_csv(\"../input/fake-news-detection-dataset/Fake.csv\")\n",
    "data_true = pd.read_csv(\"../input/fake-news-detection-dataset/True.csv\")"
   ]
  },
  {
   "cell_type": "code",
   "execution_count": 3,
   "id": "e20e9577",
   "metadata": {
    "execution": {
     "iopub.execute_input": "2022-05-30T00:43:49.475508Z",
     "iopub.status.busy": "2022-05-30T00:43:49.475046Z",
     "iopub.status.idle": "2022-05-30T00:43:49.493283Z",
     "shell.execute_reply": "2022-05-30T00:43:49.492685Z"
    },
    "papermill": {
     "duration": 0.066492,
     "end_time": "2022-05-30T00:43:49.495611",
     "exception": false,
     "start_time": "2022-05-30T00:43:49.429119",
     "status": "completed"
    },
    "tags": []
   },
   "outputs": [
    {
     "data": {
      "text/html": [
       "<div>\n",
       "<style scoped>\n",
       "    .dataframe tbody tr th:only-of-type {\n",
       "        vertical-align: middle;\n",
       "    }\n",
       "\n",
       "    .dataframe tbody tr th {\n",
       "        vertical-align: top;\n",
       "    }\n",
       "\n",
       "    .dataframe thead th {\n",
       "        text-align: right;\n",
       "    }\n",
       "</style>\n",
       "<table border=\"1\" class=\"dataframe\">\n",
       "  <thead>\n",
       "    <tr style=\"text-align: right;\">\n",
       "      <th></th>\n",
       "      <th>title</th>\n",
       "      <th>text</th>\n",
       "      <th>subject</th>\n",
       "      <th>date</th>\n",
       "    </tr>\n",
       "  </thead>\n",
       "  <tbody>\n",
       "    <tr>\n",
       "      <th>0</th>\n",
       "      <td>Donald Trump Sends Out Embarrassing New Year’...</td>\n",
       "      <td>Donald Trump just couldn t wish all Americans ...</td>\n",
       "      <td>News</td>\n",
       "      <td>December 31, 2017</td>\n",
       "    </tr>\n",
       "    <tr>\n",
       "      <th>1</th>\n",
       "      <td>Drunk Bragging Trump Staffer Started Russian ...</td>\n",
       "      <td>House Intelligence Committee Chairman Devin Nu...</td>\n",
       "      <td>News</td>\n",
       "      <td>December 31, 2017</td>\n",
       "    </tr>\n",
       "    <tr>\n",
       "      <th>2</th>\n",
       "      <td>Sheriff David Clarke Becomes An Internet Joke...</td>\n",
       "      <td>On Friday, it was revealed that former Milwauk...</td>\n",
       "      <td>News</td>\n",
       "      <td>December 30, 2017</td>\n",
       "    </tr>\n",
       "    <tr>\n",
       "      <th>3</th>\n",
       "      <td>Trump Is So Obsessed He Even Has Obama’s Name...</td>\n",
       "      <td>On Christmas day, Donald Trump announced that ...</td>\n",
       "      <td>News</td>\n",
       "      <td>December 29, 2017</td>\n",
       "    </tr>\n",
       "    <tr>\n",
       "      <th>4</th>\n",
       "      <td>Pope Francis Just Called Out Donald Trump Dur...</td>\n",
       "      <td>Pope Francis used his annual Christmas Day mes...</td>\n",
       "      <td>News</td>\n",
       "      <td>December 25, 2017</td>\n",
       "    </tr>\n",
       "  </tbody>\n",
       "</table>\n",
       "</div>"
      ],
      "text/plain": [
       "                                               title  \\\n",
       "0   Donald Trump Sends Out Embarrassing New Year’...   \n",
       "1   Drunk Bragging Trump Staffer Started Russian ...   \n",
       "2   Sheriff David Clarke Becomes An Internet Joke...   \n",
       "3   Trump Is So Obsessed He Even Has Obama’s Name...   \n",
       "4   Pope Francis Just Called Out Donald Trump Dur...   \n",
       "\n",
       "                                                text subject  \\\n",
       "0  Donald Trump just couldn t wish all Americans ...    News   \n",
       "1  House Intelligence Committee Chairman Devin Nu...    News   \n",
       "2  On Friday, it was revealed that former Milwauk...    News   \n",
       "3  On Christmas day, Donald Trump announced that ...    News   \n",
       "4  Pope Francis used his annual Christmas Day mes...    News   \n",
       "\n",
       "                date  \n",
       "0  December 31, 2017  \n",
       "1  December 31, 2017  \n",
       "2  December 30, 2017  \n",
       "3  December 29, 2017  \n",
       "4  December 25, 2017  "
      ]
     },
     "execution_count": 3,
     "metadata": {},
     "output_type": "execute_result"
    }
   ],
   "source": [
    "data_fake.head()"
   ]
  },
  {
   "cell_type": "code",
   "execution_count": 4,
   "id": "5c11e99f",
   "metadata": {
    "execution": {
     "iopub.execute_input": "2022-05-30T00:43:49.589120Z",
     "iopub.status.busy": "2022-05-30T00:43:49.588816Z",
     "iopub.status.idle": "2022-05-30T00:43:49.597921Z",
     "shell.execute_reply": "2022-05-30T00:43:49.597354Z"
    },
    "papermill": {
     "duration": 0.057965,
     "end_time": "2022-05-30T00:43:49.599753",
     "exception": false,
     "start_time": "2022-05-30T00:43:49.541788",
     "status": "completed"
    },
    "tags": []
   },
   "outputs": [],
   "source": [
    "# Inserting a column \"class\" as target feature\n",
    "data_fake[\"class\"] = 0\n",
    "data_true[\"class\"] = 1"
   ]
  },
  {
   "cell_type": "code",
   "execution_count": 5,
   "id": "4aae948c",
   "metadata": {
    "execution": {
     "iopub.execute_input": "2022-05-30T00:43:49.694929Z",
     "iopub.status.busy": "2022-05-30T00:43:49.694599Z",
     "iopub.status.idle": "2022-05-30T00:43:49.700036Z",
     "shell.execute_reply": "2022-05-30T00:43:49.699152Z"
    },
    "papermill": {
     "duration": 0.055844,
     "end_time": "2022-05-30T00:43:49.702064",
     "exception": false,
     "start_time": "2022-05-30T00:43:49.646220",
     "status": "completed"
    },
    "tags": []
   },
   "outputs": [
    {
     "data": {
      "text/plain": [
       "(23481, 5)"
      ]
     },
     "execution_count": 5,
     "metadata": {},
     "output_type": "execute_result"
    }
   ],
   "source": [
    "data_fake.shape"
   ]
  },
  {
   "cell_type": "code",
   "execution_count": 6,
   "id": "6ccb824c",
   "metadata": {
    "execution": {
     "iopub.execute_input": "2022-05-30T00:43:49.798115Z",
     "iopub.status.busy": "2022-05-30T00:43:49.797822Z",
     "iopub.status.idle": "2022-05-30T00:43:49.804803Z",
     "shell.execute_reply": "2022-05-30T00:43:49.803834Z"
    },
    "papermill": {
     "duration": 0.057987,
     "end_time": "2022-05-30T00:43:49.807050",
     "exception": false,
     "start_time": "2022-05-30T00:43:49.749063",
     "status": "completed"
    },
    "tags": []
   },
   "outputs": [
    {
     "data": {
      "text/plain": [
       "(21417, 5)"
      ]
     },
     "execution_count": 6,
     "metadata": {},
     "output_type": "execute_result"
    }
   ],
   "source": [
    "data_true.shape"
   ]
  },
  {
   "cell_type": "markdown",
   "id": "8565d711",
   "metadata": {
    "papermill": {
     "duration": 0.046732,
     "end_time": "2022-05-30T00:43:49.900364",
     "exception": false,
     "start_time": "2022-05-30T00:43:49.853632",
     "status": "completed"
    },
    "tags": []
   },
   "source": [
    "Let us remove last 10 columns for manual testing"
   ]
  },
  {
   "cell_type": "code",
   "execution_count": 7,
   "id": "60eca7e7",
   "metadata": {
    "execution": {
     "iopub.execute_input": "2022-05-30T00:43:49.995349Z",
     "iopub.status.busy": "2022-05-30T00:43:49.995025Z",
     "iopub.status.idle": "2022-05-30T00:43:50.059082Z",
     "shell.execute_reply": "2022-05-30T00:43:50.058158Z"
    },
    "papermill": {
     "duration": 0.114441,
     "end_time": "2022-05-30T00:43:50.061419",
     "exception": false,
     "start_time": "2022-05-30T00:43:49.946978",
     "status": "completed"
    },
    "tags": []
   },
   "outputs": [],
   "source": [
    "data_fake_manual_testing = data_fake.tail(10)\n",
    "for i in range(23480,23470,-1):\n",
    "    data_fake.drop([i], axis = 0, inplace = True)\n",
    "    \n",
    "    \n",
    "data_true_manual_testing = data_true.tail(10)\n",
    "for i in range(21416,21406,-1):\n",
    "    data_true.drop([i], axis = 0, inplace = True)"
   ]
  },
  {
   "cell_type": "code",
   "execution_count": 8,
   "id": "cd727e46",
   "metadata": {
    "execution": {
     "iopub.execute_input": "2022-05-30T00:43:50.156290Z",
     "iopub.status.busy": "2022-05-30T00:43:50.155858Z",
     "iopub.status.idle": "2022-05-30T00:43:50.161623Z",
     "shell.execute_reply": "2022-05-30T00:43:50.160808Z"
    },
    "papermill": {
     "duration": 0.055461,
     "end_time": "2022-05-30T00:43:50.163666",
     "exception": false,
     "start_time": "2022-05-30T00:43:50.108205",
     "status": "completed"
    },
    "tags": []
   },
   "outputs": [
    {
     "data": {
      "text/plain": [
       "((23471, 5), (21407, 5))"
      ]
     },
     "execution_count": 8,
     "metadata": {},
     "output_type": "execute_result"
    }
   ],
   "source": [
    "data_fake.shape, data_true.shape"
   ]
  },
  {
   "cell_type": "markdown",
   "id": "d1ecd6ed",
   "metadata": {
    "papermill": {
     "duration": 0.046759,
     "end_time": "2022-05-30T00:43:50.257227",
     "exception": false,
     "start_time": "2022-05-30T00:43:50.210468",
     "status": "completed"
    },
    "tags": []
   },
   "source": [
    "Noice"
   ]
  },
  {
   "cell_type": "code",
   "execution_count": 9,
   "id": "6eae459e",
   "metadata": {
    "execution": {
     "iopub.execute_input": "2022-05-30T00:43:50.352398Z",
     "iopub.status.busy": "2022-05-30T00:43:50.352135Z",
     "iopub.status.idle": "2022-05-30T00:43:50.358561Z",
     "shell.execute_reply": "2022-05-30T00:43:50.357744Z"
    },
    "papermill": {
     "duration": 0.056122,
     "end_time": "2022-05-30T00:43:50.360613",
     "exception": false,
     "start_time": "2022-05-30T00:43:50.304491",
     "status": "completed"
    },
    "tags": []
   },
   "outputs": [
    {
     "name": "stderr",
     "output_type": "stream",
     "text": [
      "/opt/conda/lib/python3.7/site-packages/ipykernel_launcher.py:1: SettingWithCopyWarning: \n",
      "A value is trying to be set on a copy of a slice from a DataFrame.\n",
      "Try using .loc[row_indexer,col_indexer] = value instead\n",
      "\n",
      "See the caveats in the documentation: https://pandas.pydata.org/pandas-docs/stable/user_guide/indexing.html#returning-a-view-versus-a-copy\n",
      "  \"\"\"Entry point for launching an IPython kernel.\n",
      "/opt/conda/lib/python3.7/site-packages/ipykernel_launcher.py:2: SettingWithCopyWarning: \n",
      "A value is trying to be set on a copy of a slice from a DataFrame.\n",
      "Try using .loc[row_indexer,col_indexer] = value instead\n",
      "\n",
      "See the caveats in the documentation: https://pandas.pydata.org/pandas-docs/stable/user_guide/indexing.html#returning-a-view-versus-a-copy\n",
      "  \n"
     ]
    }
   ],
   "source": [
    "data_fake_manual_testing[\"class\"] = 0\n",
    "data_true_manual_testing[\"class\"] = 1"
   ]
  },
  {
   "cell_type": "code",
   "execution_count": 10,
   "id": "6faec4ba",
   "metadata": {
    "execution": {
     "iopub.execute_input": "2022-05-30T00:43:50.456934Z",
     "iopub.status.busy": "2022-05-30T00:43:50.456179Z",
     "iopub.status.idle": "2022-05-30T00:43:50.468644Z",
     "shell.execute_reply": "2022-05-30T00:43:50.467840Z"
    },
    "papermill": {
     "duration": 0.0628,
     "end_time": "2022-05-30T00:43:50.470664",
     "exception": false,
     "start_time": "2022-05-30T00:43:50.407864",
     "status": "completed"
    },
    "tags": []
   },
   "outputs": [
    {
     "data": {
      "text/html": [
       "<div>\n",
       "<style scoped>\n",
       "    .dataframe tbody tr th:only-of-type {\n",
       "        vertical-align: middle;\n",
       "    }\n",
       "\n",
       "    .dataframe tbody tr th {\n",
       "        vertical-align: top;\n",
       "    }\n",
       "\n",
       "    .dataframe thead th {\n",
       "        text-align: right;\n",
       "    }\n",
       "</style>\n",
       "<table border=\"1\" class=\"dataframe\">\n",
       "  <thead>\n",
       "    <tr style=\"text-align: right;\">\n",
       "      <th></th>\n",
       "      <th>title</th>\n",
       "      <th>text</th>\n",
       "      <th>subject</th>\n",
       "      <th>date</th>\n",
       "      <th>class</th>\n",
       "    </tr>\n",
       "  </thead>\n",
       "  <tbody>\n",
       "    <tr>\n",
       "      <th>23471</th>\n",
       "      <td>Seven Iranians freed in the prisoner swap have...</td>\n",
       "      <td>21st Century Wire says This week, the historic...</td>\n",
       "      <td>Middle-east</td>\n",
       "      <td>January 20, 2016</td>\n",
       "      <td>0</td>\n",
       "    </tr>\n",
       "    <tr>\n",
       "      <th>23472</th>\n",
       "      <td>#Hashtag Hell &amp; The Fake Left</td>\n",
       "      <td>By Dady Chery and Gilbert MercierAll writers ...</td>\n",
       "      <td>Middle-east</td>\n",
       "      <td>January 19, 2016</td>\n",
       "      <td>0</td>\n",
       "    </tr>\n",
       "    <tr>\n",
       "      <th>23473</th>\n",
       "      <td>Astroturfing: Journalist Reveals Brainwashing ...</td>\n",
       "      <td>Vic Bishop Waking TimesOur reality is carefull...</td>\n",
       "      <td>Middle-east</td>\n",
       "      <td>January 19, 2016</td>\n",
       "      <td>0</td>\n",
       "    </tr>\n",
       "    <tr>\n",
       "      <th>23474</th>\n",
       "      <td>The New American Century: An Era of Fraud</td>\n",
       "      <td>Paul Craig RobertsIn the last years of the 20t...</td>\n",
       "      <td>Middle-east</td>\n",
       "      <td>January 19, 2016</td>\n",
       "      <td>0</td>\n",
       "    </tr>\n",
       "    <tr>\n",
       "      <th>23475</th>\n",
       "      <td>Hillary Clinton: ‘Israel First’ (and no peace ...</td>\n",
       "      <td>Robert Fantina CounterpunchAlthough the United...</td>\n",
       "      <td>Middle-east</td>\n",
       "      <td>January 18, 2016</td>\n",
       "      <td>0</td>\n",
       "    </tr>\n",
       "    <tr>\n",
       "      <th>23476</th>\n",
       "      <td>McPain: John McCain Furious That Iran Treated ...</td>\n",
       "      <td>21st Century Wire says As 21WIRE reported earl...</td>\n",
       "      <td>Middle-east</td>\n",
       "      <td>January 16, 2016</td>\n",
       "      <td>0</td>\n",
       "    </tr>\n",
       "    <tr>\n",
       "      <th>23477</th>\n",
       "      <td>JUSTICE? Yahoo Settles E-mail Privacy Class-ac...</td>\n",
       "      <td>21st Century Wire says It s a familiar theme. ...</td>\n",
       "      <td>Middle-east</td>\n",
       "      <td>January 16, 2016</td>\n",
       "      <td>0</td>\n",
       "    </tr>\n",
       "    <tr>\n",
       "      <th>23478</th>\n",
       "      <td>Sunnistan: US and Allied ‘Safe Zone’ Plan to T...</td>\n",
       "      <td>Patrick Henningsen  21st Century WireRemember ...</td>\n",
       "      <td>Middle-east</td>\n",
       "      <td>January 15, 2016</td>\n",
       "      <td>0</td>\n",
       "    </tr>\n",
       "    <tr>\n",
       "      <th>23479</th>\n",
       "      <td>How to Blow $700 Million: Al Jazeera America F...</td>\n",
       "      <td>21st Century Wire says Al Jazeera America will...</td>\n",
       "      <td>Middle-east</td>\n",
       "      <td>January 14, 2016</td>\n",
       "      <td>0</td>\n",
       "    </tr>\n",
       "    <tr>\n",
       "      <th>23480</th>\n",
       "      <td>10 U.S. Navy Sailors Held by Iranian Military ...</td>\n",
       "      <td>21st Century Wire says As 21WIRE predicted in ...</td>\n",
       "      <td>Middle-east</td>\n",
       "      <td>January 12, 2016</td>\n",
       "      <td>0</td>\n",
       "    </tr>\n",
       "  </tbody>\n",
       "</table>\n",
       "</div>"
      ],
      "text/plain": [
       "                                                   title  \\\n",
       "23471  Seven Iranians freed in the prisoner swap have...   \n",
       "23472                      #Hashtag Hell & The Fake Left   \n",
       "23473  Astroturfing: Journalist Reveals Brainwashing ...   \n",
       "23474          The New American Century: An Era of Fraud   \n",
       "23475  Hillary Clinton: ‘Israel First’ (and no peace ...   \n",
       "23476  McPain: John McCain Furious That Iran Treated ...   \n",
       "23477  JUSTICE? Yahoo Settles E-mail Privacy Class-ac...   \n",
       "23478  Sunnistan: US and Allied ‘Safe Zone’ Plan to T...   \n",
       "23479  How to Blow $700 Million: Al Jazeera America F...   \n",
       "23480  10 U.S. Navy Sailors Held by Iranian Military ...   \n",
       "\n",
       "                                                    text      subject  \\\n",
       "23471  21st Century Wire says This week, the historic...  Middle-east   \n",
       "23472   By Dady Chery and Gilbert MercierAll writers ...  Middle-east   \n",
       "23473  Vic Bishop Waking TimesOur reality is carefull...  Middle-east   \n",
       "23474  Paul Craig RobertsIn the last years of the 20t...  Middle-east   \n",
       "23475  Robert Fantina CounterpunchAlthough the United...  Middle-east   \n",
       "23476  21st Century Wire says As 21WIRE reported earl...  Middle-east   \n",
       "23477  21st Century Wire says It s a familiar theme. ...  Middle-east   \n",
       "23478  Patrick Henningsen  21st Century WireRemember ...  Middle-east   \n",
       "23479  21st Century Wire says Al Jazeera America will...  Middle-east   \n",
       "23480  21st Century Wire says As 21WIRE predicted in ...  Middle-east   \n",
       "\n",
       "                   date  class  \n",
       "23471  January 20, 2016      0  \n",
       "23472  January 19, 2016      0  \n",
       "23473  January 19, 2016      0  \n",
       "23474  January 19, 2016      0  \n",
       "23475  January 18, 2016      0  \n",
       "23476  January 16, 2016      0  \n",
       "23477  January 16, 2016      0  \n",
       "23478  January 15, 2016      0  \n",
       "23479  January 14, 2016      0  \n",
       "23480  January 12, 2016      0  "
      ]
     },
     "execution_count": 10,
     "metadata": {},
     "output_type": "execute_result"
    }
   ],
   "source": [
    "data_fake_manual_testing.head(10)"
   ]
  },
  {
   "cell_type": "code",
   "execution_count": 11,
   "id": "23473b3d",
   "metadata": {
    "execution": {
     "iopub.execute_input": "2022-05-30T00:43:50.568828Z",
     "iopub.status.busy": "2022-05-30T00:43:50.568554Z",
     "iopub.status.idle": "2022-05-30T00:43:50.580379Z",
     "shell.execute_reply": "2022-05-30T00:43:50.579593Z"
    },
    "papermill": {
     "duration": 0.063501,
     "end_time": "2022-05-30T00:43:50.582180",
     "exception": false,
     "start_time": "2022-05-30T00:43:50.518679",
     "status": "completed"
    },
    "tags": []
   },
   "outputs": [
    {
     "data": {
      "text/html": [
       "<div>\n",
       "<style scoped>\n",
       "    .dataframe tbody tr th:only-of-type {\n",
       "        vertical-align: middle;\n",
       "    }\n",
       "\n",
       "    .dataframe tbody tr th {\n",
       "        vertical-align: top;\n",
       "    }\n",
       "\n",
       "    .dataframe thead th {\n",
       "        text-align: right;\n",
       "    }\n",
       "</style>\n",
       "<table border=\"1\" class=\"dataframe\">\n",
       "  <thead>\n",
       "    <tr style=\"text-align: right;\">\n",
       "      <th></th>\n",
       "      <th>title</th>\n",
       "      <th>text</th>\n",
       "      <th>subject</th>\n",
       "      <th>date</th>\n",
       "      <th>class</th>\n",
       "    </tr>\n",
       "  </thead>\n",
       "  <tbody>\n",
       "    <tr>\n",
       "      <th>21407</th>\n",
       "      <td>Mata Pires, owner of embattled Brazil builder ...</td>\n",
       "      <td>SAO PAULO (Reuters) - Cesar Mata Pires, the ow...</td>\n",
       "      <td>worldnews</td>\n",
       "      <td>August 22, 2017</td>\n",
       "      <td>1</td>\n",
       "    </tr>\n",
       "    <tr>\n",
       "      <th>21408</th>\n",
       "      <td>U.S., North Korea clash at U.N. forum over nuc...</td>\n",
       "      <td>GENEVA (Reuters) - North Korea and the United ...</td>\n",
       "      <td>worldnews</td>\n",
       "      <td>August 22, 2017</td>\n",
       "      <td>1</td>\n",
       "    </tr>\n",
       "    <tr>\n",
       "      <th>21409</th>\n",
       "      <td>U.S., North Korea clash at U.N. arms forum on ...</td>\n",
       "      <td>GENEVA (Reuters) - North Korea and the United ...</td>\n",
       "      <td>worldnews</td>\n",
       "      <td>August 22, 2017</td>\n",
       "      <td>1</td>\n",
       "    </tr>\n",
       "    <tr>\n",
       "      <th>21410</th>\n",
       "      <td>Headless torso could belong to submarine journ...</td>\n",
       "      <td>COPENHAGEN (Reuters) - Danish police said on T...</td>\n",
       "      <td>worldnews</td>\n",
       "      <td>August 22, 2017</td>\n",
       "      <td>1</td>\n",
       "    </tr>\n",
       "    <tr>\n",
       "      <th>21411</th>\n",
       "      <td>North Korea shipments to Syria chemical arms a...</td>\n",
       "      <td>UNITED NATIONS (Reuters) - Two North Korean sh...</td>\n",
       "      <td>worldnews</td>\n",
       "      <td>August 21, 2017</td>\n",
       "      <td>1</td>\n",
       "    </tr>\n",
       "    <tr>\n",
       "      <th>21412</th>\n",
       "      <td>'Fully committed' NATO backs new U.S. approach...</td>\n",
       "      <td>BRUSSELS (Reuters) - NATO allies on Tuesday we...</td>\n",
       "      <td>worldnews</td>\n",
       "      <td>August 22, 2017</td>\n",
       "      <td>1</td>\n",
       "    </tr>\n",
       "    <tr>\n",
       "      <th>21413</th>\n",
       "      <td>LexisNexis withdrew two products from Chinese ...</td>\n",
       "      <td>LONDON (Reuters) - LexisNexis, a provider of l...</td>\n",
       "      <td>worldnews</td>\n",
       "      <td>August 22, 2017</td>\n",
       "      <td>1</td>\n",
       "    </tr>\n",
       "    <tr>\n",
       "      <th>21414</th>\n",
       "      <td>Minsk cultural hub becomes haven from authorities</td>\n",
       "      <td>MINSK (Reuters) - In the shadow of disused Sov...</td>\n",
       "      <td>worldnews</td>\n",
       "      <td>August 22, 2017</td>\n",
       "      <td>1</td>\n",
       "    </tr>\n",
       "    <tr>\n",
       "      <th>21415</th>\n",
       "      <td>Vatican upbeat on possibility of Pope Francis ...</td>\n",
       "      <td>MOSCOW (Reuters) - Vatican Secretary of State ...</td>\n",
       "      <td>worldnews</td>\n",
       "      <td>August 22, 2017</td>\n",
       "      <td>1</td>\n",
       "    </tr>\n",
       "    <tr>\n",
       "      <th>21416</th>\n",
       "      <td>Indonesia to buy $1.14 billion worth of Russia...</td>\n",
       "      <td>JAKARTA (Reuters) - Indonesia will buy 11 Sukh...</td>\n",
       "      <td>worldnews</td>\n",
       "      <td>August 22, 2017</td>\n",
       "      <td>1</td>\n",
       "    </tr>\n",
       "  </tbody>\n",
       "</table>\n",
       "</div>"
      ],
      "text/plain": [
       "                                                   title  \\\n",
       "21407  Mata Pires, owner of embattled Brazil builder ...   \n",
       "21408  U.S., North Korea clash at U.N. forum over nuc...   \n",
       "21409  U.S., North Korea clash at U.N. arms forum on ...   \n",
       "21410  Headless torso could belong to submarine journ...   \n",
       "21411  North Korea shipments to Syria chemical arms a...   \n",
       "21412  'Fully committed' NATO backs new U.S. approach...   \n",
       "21413  LexisNexis withdrew two products from Chinese ...   \n",
       "21414  Minsk cultural hub becomes haven from authorities   \n",
       "21415  Vatican upbeat on possibility of Pope Francis ...   \n",
       "21416  Indonesia to buy $1.14 billion worth of Russia...   \n",
       "\n",
       "                                                    text    subject  \\\n",
       "21407  SAO PAULO (Reuters) - Cesar Mata Pires, the ow...  worldnews   \n",
       "21408  GENEVA (Reuters) - North Korea and the United ...  worldnews   \n",
       "21409  GENEVA (Reuters) - North Korea and the United ...  worldnews   \n",
       "21410  COPENHAGEN (Reuters) - Danish police said on T...  worldnews   \n",
       "21411  UNITED NATIONS (Reuters) - Two North Korean sh...  worldnews   \n",
       "21412  BRUSSELS (Reuters) - NATO allies on Tuesday we...  worldnews   \n",
       "21413  LONDON (Reuters) - LexisNexis, a provider of l...  worldnews   \n",
       "21414  MINSK (Reuters) - In the shadow of disused Sov...  worldnews   \n",
       "21415  MOSCOW (Reuters) - Vatican Secretary of State ...  worldnews   \n",
       "21416  JAKARTA (Reuters) - Indonesia will buy 11 Sukh...  worldnews   \n",
       "\n",
       "                   date  class  \n",
       "21407  August 22, 2017       1  \n",
       "21408  August 22, 2017       1  \n",
       "21409  August 22, 2017       1  \n",
       "21410  August 22, 2017       1  \n",
       "21411  August 21, 2017       1  \n",
       "21412  August 22, 2017       1  \n",
       "21413  August 22, 2017       1  \n",
       "21414  August 22, 2017       1  \n",
       "21415  August 22, 2017       1  \n",
       "21416  August 22, 2017       1  "
      ]
     },
     "execution_count": 11,
     "metadata": {},
     "output_type": "execute_result"
    }
   ],
   "source": [
    " data_true_manual_testing.head(10)"
   ]
  },
  {
   "cell_type": "code",
   "execution_count": 12,
   "id": "9a97986c",
   "metadata": {
    "execution": {
     "iopub.execute_input": "2022-05-30T00:43:50.681190Z",
     "iopub.status.busy": "2022-05-30T00:43:50.680474Z",
     "iopub.status.idle": "2022-05-30T00:43:50.692302Z",
     "shell.execute_reply": "2022-05-30T00:43:50.691738Z"
    },
    "papermill": {
     "duration": 0.063626,
     "end_time": "2022-05-30T00:43:50.694235",
     "exception": false,
     "start_time": "2022-05-30T00:43:50.630609",
     "status": "completed"
    },
    "tags": []
   },
   "outputs": [],
   "source": [
    "data_manual_testing = pd.concat([data_fake_manual_testing,data_true_manual_testing], axis = 0)\n",
    "data_manual_testing.to_csv(\"manual_testing.csv\")"
   ]
  },
  {
   "cell_type": "code",
   "execution_count": 13,
   "id": "4f70f2c4",
   "metadata": {
    "execution": {
     "iopub.execute_input": "2022-05-30T00:43:50.794911Z",
     "iopub.status.busy": "2022-05-30T00:43:50.794180Z",
     "iopub.status.idle": "2022-05-30T00:43:50.813205Z",
     "shell.execute_reply": "2022-05-30T00:43:50.812375Z"
    },
    "papermill": {
     "duration": 0.072101,
     "end_time": "2022-05-30T00:43:50.815263",
     "exception": false,
     "start_time": "2022-05-30T00:43:50.743162",
     "status": "completed"
    },
    "tags": []
   },
   "outputs": [
    {
     "data": {
      "text/html": [
       "<div>\n",
       "<style scoped>\n",
       "    .dataframe tbody tr th:only-of-type {\n",
       "        vertical-align: middle;\n",
       "    }\n",
       "\n",
       "    .dataframe tbody tr th {\n",
       "        vertical-align: top;\n",
       "    }\n",
       "\n",
       "    .dataframe thead th {\n",
       "        text-align: right;\n",
       "    }\n",
       "</style>\n",
       "<table border=\"1\" class=\"dataframe\">\n",
       "  <thead>\n",
       "    <tr style=\"text-align: right;\">\n",
       "      <th></th>\n",
       "      <th>title</th>\n",
       "      <th>text</th>\n",
       "      <th>subject</th>\n",
       "      <th>date</th>\n",
       "      <th>class</th>\n",
       "    </tr>\n",
       "  </thead>\n",
       "  <tbody>\n",
       "    <tr>\n",
       "      <th>0</th>\n",
       "      <td>Donald Trump Sends Out Embarrassing New Year’...</td>\n",
       "      <td>Donald Trump just couldn t wish all Americans ...</td>\n",
       "      <td>News</td>\n",
       "      <td>December 31, 2017</td>\n",
       "      <td>0</td>\n",
       "    </tr>\n",
       "    <tr>\n",
       "      <th>1</th>\n",
       "      <td>Drunk Bragging Trump Staffer Started Russian ...</td>\n",
       "      <td>House Intelligence Committee Chairman Devin Nu...</td>\n",
       "      <td>News</td>\n",
       "      <td>December 31, 2017</td>\n",
       "      <td>0</td>\n",
       "    </tr>\n",
       "    <tr>\n",
       "      <th>2</th>\n",
       "      <td>Sheriff David Clarke Becomes An Internet Joke...</td>\n",
       "      <td>On Friday, it was revealed that former Milwauk...</td>\n",
       "      <td>News</td>\n",
       "      <td>December 30, 2017</td>\n",
       "      <td>0</td>\n",
       "    </tr>\n",
       "    <tr>\n",
       "      <th>3</th>\n",
       "      <td>Trump Is So Obsessed He Even Has Obama’s Name...</td>\n",
       "      <td>On Christmas day, Donald Trump announced that ...</td>\n",
       "      <td>News</td>\n",
       "      <td>December 29, 2017</td>\n",
       "      <td>0</td>\n",
       "    </tr>\n",
       "    <tr>\n",
       "      <th>4</th>\n",
       "      <td>Pope Francis Just Called Out Donald Trump Dur...</td>\n",
       "      <td>Pope Francis used his annual Christmas Day mes...</td>\n",
       "      <td>News</td>\n",
       "      <td>December 25, 2017</td>\n",
       "      <td>0</td>\n",
       "    </tr>\n",
       "    <tr>\n",
       "      <th>5</th>\n",
       "      <td>Racist Alabama Cops Brutalize Black Boy While...</td>\n",
       "      <td>The number of cases of cops brutalizing and ki...</td>\n",
       "      <td>News</td>\n",
       "      <td>December 25, 2017</td>\n",
       "      <td>0</td>\n",
       "    </tr>\n",
       "    <tr>\n",
       "      <th>6</th>\n",
       "      <td>Fresh Off The Golf Course, Trump Lashes Out A...</td>\n",
       "      <td>Donald Trump spent a good portion of his day a...</td>\n",
       "      <td>News</td>\n",
       "      <td>December 23, 2017</td>\n",
       "      <td>0</td>\n",
       "    </tr>\n",
       "    <tr>\n",
       "      <th>7</th>\n",
       "      <td>Trump Said Some INSANELY Racist Stuff Inside ...</td>\n",
       "      <td>In the wake of yet another court decision that...</td>\n",
       "      <td>News</td>\n",
       "      <td>December 23, 2017</td>\n",
       "      <td>0</td>\n",
       "    </tr>\n",
       "    <tr>\n",
       "      <th>8</th>\n",
       "      <td>Former CIA Director Slams Trump Over UN Bully...</td>\n",
       "      <td>Many people have raised the alarm regarding th...</td>\n",
       "      <td>News</td>\n",
       "      <td>December 22, 2017</td>\n",
       "      <td>0</td>\n",
       "    </tr>\n",
       "    <tr>\n",
       "      <th>9</th>\n",
       "      <td>WATCH: Brand-New Pro-Trump Ad Features So Muc...</td>\n",
       "      <td>Just when you might have thought we d get a br...</td>\n",
       "      <td>News</td>\n",
       "      <td>December 21, 2017</td>\n",
       "      <td>0</td>\n",
       "    </tr>\n",
       "  </tbody>\n",
       "</table>\n",
       "</div>"
      ],
      "text/plain": [
       "                                               title  \\\n",
       "0   Donald Trump Sends Out Embarrassing New Year’...   \n",
       "1   Drunk Bragging Trump Staffer Started Russian ...   \n",
       "2   Sheriff David Clarke Becomes An Internet Joke...   \n",
       "3   Trump Is So Obsessed He Even Has Obama’s Name...   \n",
       "4   Pope Francis Just Called Out Donald Trump Dur...   \n",
       "5   Racist Alabama Cops Brutalize Black Boy While...   \n",
       "6   Fresh Off The Golf Course, Trump Lashes Out A...   \n",
       "7   Trump Said Some INSANELY Racist Stuff Inside ...   \n",
       "8   Former CIA Director Slams Trump Over UN Bully...   \n",
       "9   WATCH: Brand-New Pro-Trump Ad Features So Muc...   \n",
       "\n",
       "                                                text subject  \\\n",
       "0  Donald Trump just couldn t wish all Americans ...    News   \n",
       "1  House Intelligence Committee Chairman Devin Nu...    News   \n",
       "2  On Friday, it was revealed that former Milwauk...    News   \n",
       "3  On Christmas day, Donald Trump announced that ...    News   \n",
       "4  Pope Francis used his annual Christmas Day mes...    News   \n",
       "5  The number of cases of cops brutalizing and ki...    News   \n",
       "6  Donald Trump spent a good portion of his day a...    News   \n",
       "7  In the wake of yet another court decision that...    News   \n",
       "8  Many people have raised the alarm regarding th...    News   \n",
       "9  Just when you might have thought we d get a br...    News   \n",
       "\n",
       "                date  class  \n",
       "0  December 31, 2017      0  \n",
       "1  December 31, 2017      0  \n",
       "2  December 30, 2017      0  \n",
       "3  December 29, 2017      0  \n",
       "4  December 25, 2017      0  \n",
       "5  December 25, 2017      0  \n",
       "6  December 23, 2017      0  \n",
       "7  December 23, 2017      0  \n",
       "8  December 22, 2017      0  \n",
       "9  December 21, 2017      0  "
      ]
     },
     "execution_count": 13,
     "metadata": {},
     "output_type": "execute_result"
    }
   ],
   "source": [
    "# Merging Fake and True Dataframes\n",
    "data_merge = pd.concat([data_fake, data_true], axis =0 )\n",
    "data_merge.head(10)"
   ]
  },
  {
   "cell_type": "code",
   "execution_count": 14,
   "id": "07d893fc",
   "metadata": {
    "execution": {
     "iopub.execute_input": "2022-05-30T00:43:50.915655Z",
     "iopub.status.busy": "2022-05-30T00:43:50.915366Z",
     "iopub.status.idle": "2022-05-30T00:43:50.921736Z",
     "shell.execute_reply": "2022-05-30T00:43:50.920820Z"
    },
    "papermill": {
     "duration": 0.058801,
     "end_time": "2022-05-30T00:43:50.923820",
     "exception": false,
     "start_time": "2022-05-30T00:43:50.865019",
     "status": "completed"
    },
    "tags": []
   },
   "outputs": [
    {
     "data": {
      "text/plain": [
       "Index(['title', 'text', 'subject', 'date', 'class'], dtype='object')"
      ]
     },
     "execution_count": 14,
     "metadata": {},
     "output_type": "execute_result"
    }
   ],
   "source": [
    "data_merge.columns"
   ]
  },
  {
   "cell_type": "code",
   "execution_count": 15,
   "id": "993447c5",
   "metadata": {
    "execution": {
     "iopub.execute_input": "2022-05-30T00:43:51.026437Z",
     "iopub.status.busy": "2022-05-30T00:43:51.025883Z",
     "iopub.status.idle": "2022-05-30T00:43:51.033176Z",
     "shell.execute_reply": "2022-05-30T00:43:51.032583Z"
    },
    "papermill": {
     "duration": 0.060833,
     "end_time": "2022-05-30T00:43:51.035005",
     "exception": false,
     "start_time": "2022-05-30T00:43:50.974172",
     "status": "completed"
    },
    "tags": []
   },
   "outputs": [],
   "source": [
    "# Removing columns which are not required\n",
    "data = data_merge.drop([\"title\", \"subject\",\"date\"], axis = 1)"
   ]
  },
  {
   "cell_type": "code",
   "execution_count": 16,
   "id": "87412eaf",
   "metadata": {
    "execution": {
     "iopub.execute_input": "2022-05-30T00:43:51.136746Z",
     "iopub.status.busy": "2022-05-30T00:43:51.135902Z",
     "iopub.status.idle": "2022-05-30T00:43:51.150593Z",
     "shell.execute_reply": "2022-05-30T00:43:51.150000Z"
    },
    "papermill": {
     "duration": 0.067946,
     "end_time": "2022-05-30T00:43:51.152420",
     "exception": false,
     "start_time": "2022-05-30T00:43:51.084474",
     "status": "completed"
    },
    "tags": []
   },
   "outputs": [
    {
     "data": {
      "text/plain": [
       "text     0\n",
       "class    0\n",
       "dtype: int64"
      ]
     },
     "execution_count": 16,
     "metadata": {},
     "output_type": "execute_result"
    }
   ],
   "source": [
    "data.isnull().sum()"
   ]
  },
  {
   "cell_type": "code",
   "execution_count": 17,
   "id": "740ed30b",
   "metadata": {
    "execution": {
     "iopub.execute_input": "2022-05-30T00:43:51.254643Z",
     "iopub.status.busy": "2022-05-30T00:43:51.253584Z",
     "iopub.status.idle": "2022-05-30T00:43:51.266222Z",
     "shell.execute_reply": "2022-05-30T00:43:51.265394Z"
    },
    "papermill": {
     "duration": 0.065749,
     "end_time": "2022-05-30T00:43:51.268417",
     "exception": false,
     "start_time": "2022-05-30T00:43:51.202668",
     "status": "completed"
    },
    "tags": []
   },
   "outputs": [],
   "source": [
    "# Random Shuffling the dataframe\n",
    "data = data.sample(frac = 1)"
   ]
  },
  {
   "cell_type": "code",
   "execution_count": 18,
   "id": "7dbfeabb",
   "metadata": {
    "execution": {
     "iopub.execute_input": "2022-05-30T00:43:51.370533Z",
     "iopub.status.busy": "2022-05-30T00:43:51.369713Z",
     "iopub.status.idle": "2022-05-30T00:43:51.378177Z",
     "shell.execute_reply": "2022-05-30T00:43:51.377659Z"
    },
    "papermill": {
     "duration": 0.061267,
     "end_time": "2022-05-30T00:43:51.379843",
     "exception": false,
     "start_time": "2022-05-30T00:43:51.318576",
     "status": "completed"
    },
    "tags": []
   },
   "outputs": [
    {
     "data": {
      "text/html": [
       "<div>\n",
       "<style scoped>\n",
       "    .dataframe tbody tr th:only-of-type {\n",
       "        vertical-align: middle;\n",
       "    }\n",
       "\n",
       "    .dataframe tbody tr th {\n",
       "        vertical-align: top;\n",
       "    }\n",
       "\n",
       "    .dataframe thead th {\n",
       "        text-align: right;\n",
       "    }\n",
       "</style>\n",
       "<table border=\"1\" class=\"dataframe\">\n",
       "  <thead>\n",
       "    <tr style=\"text-align: right;\">\n",
       "      <th></th>\n",
       "      <th>text</th>\n",
       "      <th>class</th>\n",
       "    </tr>\n",
       "  </thead>\n",
       "  <tbody>\n",
       "    <tr>\n",
       "      <th>111</th>\n",
       "      <td>WASHINGTON (Reuters) - The Republican-controll...</td>\n",
       "      <td>1</td>\n",
       "    </tr>\n",
       "    <tr>\n",
       "      <th>14243</th>\n",
       "      <td>George Soros seems to be sticking his nose int...</td>\n",
       "      <td>0</td>\n",
       "    </tr>\n",
       "    <tr>\n",
       "      <th>17258</th>\n",
       "      <td>Just when you thought the 2014 election result...</td>\n",
       "      <td>0</td>\n",
       "    </tr>\n",
       "    <tr>\n",
       "      <th>1131</th>\n",
       "      <td>WASHINGTON (Reuters) - Republican U.S. Senator...</td>\n",
       "      <td>1</td>\n",
       "    </tr>\n",
       "    <tr>\n",
       "      <th>10931</th>\n",
       "      <td>WASHINGTON (Reuters) - U.S. President Barack O...</td>\n",
       "      <td>1</td>\n",
       "    </tr>\n",
       "  </tbody>\n",
       "</table>\n",
       "</div>"
      ],
      "text/plain": [
       "                                                    text  class\n",
       "111    WASHINGTON (Reuters) - The Republican-controll...      1\n",
       "14243  George Soros seems to be sticking his nose int...      0\n",
       "17258  Just when you thought the 2014 election result...      0\n",
       "1131   WASHINGTON (Reuters) - Republican U.S. Senator...      1\n",
       "10931  WASHINGTON (Reuters) - U.S. President Barack O...      1"
      ]
     },
     "execution_count": 18,
     "metadata": {},
     "output_type": "execute_result"
    }
   ],
   "source": [
    "data.head()"
   ]
  },
  {
   "cell_type": "code",
   "execution_count": 19,
   "id": "34ed1aaf",
   "metadata": {
    "execution": {
     "iopub.execute_input": "2022-05-30T00:43:51.482945Z",
     "iopub.status.busy": "2022-05-30T00:43:51.482238Z",
     "iopub.status.idle": "2022-05-30T00:43:51.492270Z",
     "shell.execute_reply": "2022-05-30T00:43:51.491459Z"
    },
    "papermill": {
     "duration": 0.063433,
     "end_time": "2022-05-30T00:43:51.494215",
     "exception": false,
     "start_time": "2022-05-30T00:43:51.430782",
     "status": "completed"
    },
    "tags": []
   },
   "outputs": [],
   "source": [
    "data.reset_index(inplace = True)\n",
    "data.drop([\"index\"], axis = 1, inplace = True)"
   ]
  },
  {
   "cell_type": "code",
   "execution_count": 20,
   "id": "605e67b0",
   "metadata": {
    "execution": {
     "iopub.execute_input": "2022-05-30T00:43:51.597168Z",
     "iopub.status.busy": "2022-05-30T00:43:51.596878Z",
     "iopub.status.idle": "2022-05-30T00:43:51.602013Z",
     "shell.execute_reply": "2022-05-30T00:43:51.601442Z"
    },
    "papermill": {
     "duration": 0.058581,
     "end_time": "2022-05-30T00:43:51.603708",
     "exception": false,
     "start_time": "2022-05-30T00:43:51.545127",
     "status": "completed"
    },
    "tags": []
   },
   "outputs": [
    {
     "data": {
      "text/plain": [
       "Index(['text', 'class'], dtype='object')"
      ]
     },
     "execution_count": 20,
     "metadata": {},
     "output_type": "execute_result"
    }
   ],
   "source": [
    "data.columns"
   ]
  },
  {
   "cell_type": "code",
   "execution_count": 21,
   "id": "41832d6b",
   "metadata": {
    "execution": {
     "iopub.execute_input": "2022-05-30T00:43:51.707425Z",
     "iopub.status.busy": "2022-05-30T00:43:51.706632Z",
     "iopub.status.idle": "2022-05-30T00:43:51.715457Z",
     "shell.execute_reply": "2022-05-30T00:43:51.714838Z"
    },
    "papermill": {
     "duration": 0.062625,
     "end_time": "2022-05-30T00:43:51.717139",
     "exception": false,
     "start_time": "2022-05-30T00:43:51.654514",
     "status": "completed"
    },
    "tags": []
   },
   "outputs": [
    {
     "data": {
      "text/html": [
       "<div>\n",
       "<style scoped>\n",
       "    .dataframe tbody tr th:only-of-type {\n",
       "        vertical-align: middle;\n",
       "    }\n",
       "\n",
       "    .dataframe tbody tr th {\n",
       "        vertical-align: top;\n",
       "    }\n",
       "\n",
       "    .dataframe thead th {\n",
       "        text-align: right;\n",
       "    }\n",
       "</style>\n",
       "<table border=\"1\" class=\"dataframe\">\n",
       "  <thead>\n",
       "    <tr style=\"text-align: right;\">\n",
       "      <th></th>\n",
       "      <th>text</th>\n",
       "      <th>class</th>\n",
       "    </tr>\n",
       "  </thead>\n",
       "  <tbody>\n",
       "    <tr>\n",
       "      <th>0</th>\n",
       "      <td>WASHINGTON (Reuters) - The Republican-controll...</td>\n",
       "      <td>1</td>\n",
       "    </tr>\n",
       "    <tr>\n",
       "      <th>1</th>\n",
       "      <td>George Soros seems to be sticking his nose int...</td>\n",
       "      <td>0</td>\n",
       "    </tr>\n",
       "    <tr>\n",
       "      <th>2</th>\n",
       "      <td>Just when you thought the 2014 election result...</td>\n",
       "      <td>0</td>\n",
       "    </tr>\n",
       "    <tr>\n",
       "      <th>3</th>\n",
       "      <td>WASHINGTON (Reuters) - Republican U.S. Senator...</td>\n",
       "      <td>1</td>\n",
       "    </tr>\n",
       "    <tr>\n",
       "      <th>4</th>\n",
       "      <td>WASHINGTON (Reuters) - U.S. President Barack O...</td>\n",
       "      <td>1</td>\n",
       "    </tr>\n",
       "  </tbody>\n",
       "</table>\n",
       "</div>"
      ],
      "text/plain": [
       "                                                text  class\n",
       "0  WASHINGTON (Reuters) - The Republican-controll...      1\n",
       "1  George Soros seems to be sticking his nose int...      0\n",
       "2  Just when you thought the 2014 election result...      0\n",
       "3  WASHINGTON (Reuters) - Republican U.S. Senator...      1\n",
       "4  WASHINGTON (Reuters) - U.S. President Barack O...      1"
      ]
     },
     "execution_count": 21,
     "metadata": {},
     "output_type": "execute_result"
    }
   ],
   "source": [
    "data.head()"
   ]
  },
  {
   "cell_type": "markdown",
   "id": "26ce0067",
   "metadata": {
    "papermill": {
     "duration": 0.051005,
     "end_time": "2022-05-30T00:43:51.819436",
     "exception": false,
     "start_time": "2022-05-30T00:43:51.768431",
     "status": "completed"
    },
    "tags": []
   },
   "source": []
  },
  {
   "cell_type": "code",
   "execution_count": 22,
   "id": "4f6e2f7c",
   "metadata": {
    "execution": {
     "iopub.execute_input": "2022-05-30T00:43:51.923630Z",
     "iopub.status.busy": "2022-05-30T00:43:51.923153Z",
     "iopub.status.idle": "2022-05-30T00:43:51.929650Z",
     "shell.execute_reply": "2022-05-30T00:43:51.929093Z"
    },
    "papermill": {
     "duration": 0.060644,
     "end_time": "2022-05-30T00:43:51.931281",
     "exception": false,
     "start_time": "2022-05-30T00:43:51.870637",
     "status": "completed"
    },
    "tags": []
   },
   "outputs": [],
   "source": [
    "# Creating a function to process the texts\n",
    "def word_opt(text):\n",
    "    text = text.lower()\n",
    "    text = re.sub('\\[.*?\\]', '', text)\n",
    "    text = re.sub(\"\\\\W\",\" \",text) \n",
    "    text = re.sub('https?://\\S+|www\\.\\S+', '', text)\n",
    "    text = re.sub('<.*?>+', '', text)\n",
    "    text = re.sub('[%s]' % re.escape(string.punctuation), '', text)\n",
    "    text = re.sub('\\n', '', text)\n",
    "    text = re.sub('\\w*\\d\\w*', '', text)    \n",
    "    return text"
   ]
  },
  {
   "cell_type": "code",
   "execution_count": 23,
   "id": "f03c93ba",
   "metadata": {
    "execution": {
     "iopub.execute_input": "2022-05-30T00:43:52.037403Z",
     "iopub.status.busy": "2022-05-30T00:43:52.036925Z",
     "iopub.status.idle": "2022-05-30T00:44:30.856382Z",
     "shell.execute_reply": "2022-05-30T00:44:30.855388Z"
    },
    "papermill": {
     "duration": 38.876116,
     "end_time": "2022-05-30T00:44:30.858839",
     "exception": false,
     "start_time": "2022-05-30T00:43:51.982723",
     "status": "completed"
    },
    "tags": []
   },
   "outputs": [],
   "source": [
    "data[\"text\"] = data[\"text\"].apply(word_opt)"
   ]
  },
  {
   "cell_type": "code",
   "execution_count": 24,
   "id": "0f7dbab3",
   "metadata": {
    "execution": {
     "iopub.execute_input": "2022-05-30T00:44:30.965156Z",
     "iopub.status.busy": "2022-05-30T00:44:30.964604Z",
     "iopub.status.idle": "2022-05-30T00:44:30.969148Z",
     "shell.execute_reply": "2022-05-30T00:44:30.968507Z"
    },
    "papermill": {
     "duration": 0.059633,
     "end_time": "2022-05-30T00:44:30.970856",
     "exception": false,
     "start_time": "2022-05-30T00:44:30.911223",
     "status": "completed"
    },
    "tags": []
   },
   "outputs": [],
   "source": [
    "# Defining dependent and independent variables\n",
    "x = data[\"text\"]\n",
    "y = data[\"class\"]"
   ]
  },
  {
   "cell_type": "code",
   "execution_count": 25,
   "id": "a578a3f7",
   "metadata": {
    "execution": {
     "iopub.execute_input": "2022-05-30T00:44:31.077051Z",
     "iopub.status.busy": "2022-05-30T00:44:31.076570Z",
     "iopub.status.idle": "2022-05-30T00:44:31.087532Z",
     "shell.execute_reply": "2022-05-30T00:44:31.086965Z"
    },
    "papermill": {
     "duration": 0.067064,
     "end_time": "2022-05-30T00:44:31.089587",
     "exception": false,
     "start_time": "2022-05-30T00:44:31.022523",
     "status": "completed"
    },
    "tags": []
   },
   "outputs": [],
   "source": [
    "# Separating Training and Testing Data\n",
    "x_train, x_test, y_train, y_test = train_test_split(x, y, test_size=0.25)"
   ]
  },
  {
   "cell_type": "code",
   "execution_count": 26,
   "id": "2613c8f2",
   "metadata": {
    "execution": {
     "iopub.execute_input": "2022-05-30T00:44:31.196105Z",
     "iopub.status.busy": "2022-05-30T00:44:31.195464Z",
     "iopub.status.idle": "2022-05-30T00:44:50.900407Z",
     "shell.execute_reply": "2022-05-30T00:44:50.899386Z"
    },
    "papermill": {
     "duration": 19.760296,
     "end_time": "2022-05-30T00:44:50.902882",
     "exception": false,
     "start_time": "2022-05-30T00:44:31.142586",
     "status": "completed"
    },
    "tags": []
   },
   "outputs": [],
   "source": [
    "# converting text to vectors\n",
    "from sklearn.feature_extraction.text import TfidfVectorizer\n",
    "\n",
    "vectorization = TfidfVectorizer()\n",
    "xv_train = vectorization.fit_transform(x_train)\n",
    "xv_test = vectorization.transform(x_test)"
   ]
  },
  {
   "cell_type": "markdown",
   "id": "11735772",
   "metadata": {
    "papermill": {
     "duration": 0.051198,
     "end_time": "2022-05-30T00:44:51.005880",
     "exception": false,
     "start_time": "2022-05-30T00:44:50.954682",
     "status": "completed"
    },
    "tags": []
   },
   "source": [
    "# Logistic Regression"
   ]
  },
  {
   "cell_type": "code",
   "execution_count": 27,
   "id": "83268ba1",
   "metadata": {
    "execution": {
     "iopub.execute_input": "2022-05-30T00:44:51.110893Z",
     "iopub.status.busy": "2022-05-30T00:44:51.110601Z",
     "iopub.status.idle": "2022-05-30T00:44:54.857632Z",
     "shell.execute_reply": "2022-05-30T00:44:54.856811Z"
    },
    "papermill": {
     "duration": 3.803076,
     "end_time": "2022-05-30T00:44:54.860358",
     "exception": false,
     "start_time": "2022-05-30T00:44:51.057282",
     "status": "completed"
    },
    "tags": []
   },
   "outputs": [
    {
     "data": {
      "text/plain": [
       "LogisticRegression()"
      ]
     },
     "execution_count": 27,
     "metadata": {},
     "output_type": "execute_result"
    }
   ],
   "source": [
    "from sklearn.linear_model import LogisticRegression\n",
    "\n",
    "LogReg = LogisticRegression()\n",
    "LogReg.fit(xv_train,y_train)"
   ]
  },
  {
   "cell_type": "code",
   "execution_count": 28,
   "id": "94dd4973",
   "metadata": {
    "execution": {
     "iopub.execute_input": "2022-05-30T00:44:55.013348Z",
     "iopub.status.busy": "2022-05-30T00:44:55.013091Z",
     "iopub.status.idle": "2022-05-30T00:44:55.025201Z",
     "shell.execute_reply": "2022-05-30T00:44:55.024257Z"
    },
    "papermill": {
     "duration": 0.067595,
     "end_time": "2022-05-30T00:44:55.027418",
     "exception": false,
     "start_time": "2022-05-30T00:44:54.959823",
     "status": "completed"
    },
    "tags": []
   },
   "outputs": [],
   "source": [
    "pred_lr = LogReg.predict(xv_test)"
   ]
  },
  {
   "cell_type": "code",
   "execution_count": 29,
   "id": "6aad2c6d",
   "metadata": {
    "execution": {
     "iopub.execute_input": "2022-05-30T00:44:55.138269Z",
     "iopub.status.busy": "2022-05-30T00:44:55.137640Z",
     "iopub.status.idle": "2022-05-30T00:44:55.153641Z",
     "shell.execute_reply": "2022-05-30T00:44:55.152843Z"
    },
    "papermill": {
     "duration": 0.074763,
     "end_time": "2022-05-30T00:44:55.155655",
     "exception": false,
     "start_time": "2022-05-30T00:44:55.080892",
     "status": "completed"
    },
    "tags": []
   },
   "outputs": [
    {
     "data": {
      "text/plain": [
       "0.9878787878787879"
      ]
     },
     "execution_count": 29,
     "metadata": {},
     "output_type": "execute_result"
    }
   ],
   "source": [
    "LogReg.score(xv_test, y_test)"
   ]
  },
  {
   "cell_type": "code",
   "execution_count": 30,
   "id": "b5b9ac04",
   "metadata": {
    "execution": {
     "iopub.execute_input": "2022-05-30T00:44:55.261454Z",
     "iopub.status.busy": "2022-05-30T00:44:55.260887Z",
     "iopub.status.idle": "2022-05-30T00:44:55.289706Z",
     "shell.execute_reply": "2022-05-30T00:44:55.288848Z"
    },
    "papermill": {
     "duration": 0.083861,
     "end_time": "2022-05-30T00:44:55.291729",
     "exception": false,
     "start_time": "2022-05-30T00:44:55.207868",
     "status": "completed"
    },
    "tags": []
   },
   "outputs": [
    {
     "name": "stdout",
     "output_type": "stream",
     "text": [
      "              precision    recall  f1-score   support\n",
      "\n",
      "           0       0.99      0.99      0.99      5885\n",
      "           1       0.99      0.99      0.99      5335\n",
      "\n",
      "    accuracy                           0.99     11220\n",
      "   macro avg       0.99      0.99      0.99     11220\n",
      "weighted avg       0.99      0.99      0.99     11220\n",
      "\n"
     ]
    }
   ],
   "source": [
    "print(classification_report(y_test, pred_lr))"
   ]
  },
  {
   "cell_type": "markdown",
   "id": "d1570c22",
   "metadata": {
    "papermill": {
     "duration": 0.052016,
     "end_time": "2022-05-30T00:44:55.396086",
     "exception": false,
     "start_time": "2022-05-30T00:44:55.344070",
     "status": "completed"
    },
    "tags": []
   },
   "source": [
    "# Decision Tree Classification"
   ]
  },
  {
   "cell_type": "code",
   "execution_count": 31,
   "id": "968f81ad",
   "metadata": {
    "execution": {
     "iopub.execute_input": "2022-05-30T00:44:55.502503Z",
     "iopub.status.busy": "2022-05-30T00:44:55.502091Z",
     "iopub.status.idle": "2022-05-30T00:45:28.546853Z",
     "shell.execute_reply": "2022-05-30T00:45:28.546018Z"
    },
    "papermill": {
     "duration": 33.153429,
     "end_time": "2022-05-30T00:45:28.601640",
     "exception": false,
     "start_time": "2022-05-30T00:44:55.448211",
     "status": "completed"
    },
    "tags": []
   },
   "outputs": [
    {
     "data": {
      "text/plain": [
       "DecisionTreeClassifier()"
      ]
     },
     "execution_count": 31,
     "metadata": {},
     "output_type": "execute_result"
    }
   ],
   "source": [
    "from sklearn.tree import DecisionTreeClassifier\n",
    "\n",
    "DecTree = DecisionTreeClassifier()\n",
    "DecTree.fit(xv_train, y_train)"
   ]
  },
  {
   "cell_type": "code",
   "execution_count": 32,
   "id": "b8b1302d",
   "metadata": {
    "execution": {
     "iopub.execute_input": "2022-05-30T00:45:28.708684Z",
     "iopub.status.busy": "2022-05-30T00:45:28.708418Z",
     "iopub.status.idle": "2022-05-30T00:45:28.785291Z",
     "shell.execute_reply": "2022-05-30T00:45:28.784161Z"
    },
    "papermill": {
     "duration": 0.133506,
     "end_time": "2022-05-30T00:45:28.787740",
     "exception": false,
     "start_time": "2022-05-30T00:45:28.654234",
     "status": "completed"
    },
    "tags": []
   },
   "outputs": [],
   "source": [
    "pred_dectree = DecTree.predict(xv_test)"
   ]
  },
  {
   "cell_type": "code",
   "execution_count": 33,
   "id": "f4700109",
   "metadata": {
    "execution": {
     "iopub.execute_input": "2022-05-30T00:45:28.896052Z",
     "iopub.status.busy": "2022-05-30T00:45:28.895506Z",
     "iopub.status.idle": "2022-05-30T00:45:28.921050Z",
     "shell.execute_reply": "2022-05-30T00:45:28.920105Z"
    },
    "papermill": {
     "duration": 0.08261,
     "end_time": "2022-05-30T00:45:28.923066",
     "exception": false,
     "start_time": "2022-05-30T00:45:28.840456",
     "status": "completed"
    },
    "tags": []
   },
   "outputs": [
    {
     "data": {
      "text/plain": [
       "0.996078431372549"
      ]
     },
     "execution_count": 33,
     "metadata": {},
     "output_type": "execute_result"
    }
   ],
   "source": [
    "DecTree.score(xv_test, y_test)"
   ]
  },
  {
   "cell_type": "code",
   "execution_count": 34,
   "id": "1b471bc9",
   "metadata": {
    "execution": {
     "iopub.execute_input": "2022-05-30T00:45:29.031992Z",
     "iopub.status.busy": "2022-05-30T00:45:29.031248Z",
     "iopub.status.idle": "2022-05-30T00:45:29.059479Z",
     "shell.execute_reply": "2022-05-30T00:45:29.058818Z"
    },
    "papermill": {
     "duration": 0.085417,
     "end_time": "2022-05-30T00:45:29.061824",
     "exception": false,
     "start_time": "2022-05-30T00:45:28.976407",
     "status": "completed"
    },
    "tags": []
   },
   "outputs": [
    {
     "name": "stdout",
     "output_type": "stream",
     "text": [
      "              precision    recall  f1-score   support\n",
      "\n",
      "           0       1.00      1.00      1.00      5885\n",
      "           1       1.00      1.00      1.00      5335\n",
      "\n",
      "    accuracy                           1.00     11220\n",
      "   macro avg       1.00      1.00      1.00     11220\n",
      "weighted avg       1.00      1.00      1.00     11220\n",
      "\n"
     ]
    }
   ],
   "source": [
    "print(classification_report(y_test, pred_dectree))"
   ]
  },
  {
   "cell_type": "markdown",
   "id": "0d10626f",
   "metadata": {
    "papermill": {
     "duration": 0.053198,
     "end_time": "2022-05-30T00:45:29.169660",
     "exception": false,
     "start_time": "2022-05-30T00:45:29.116462",
     "status": "completed"
    },
    "tags": []
   },
   "source": [
    "# Gradient Boosting Classifier"
   ]
  },
  {
   "cell_type": "code",
   "execution_count": 35,
   "id": "bd27a6d8",
   "metadata": {
    "execution": {
     "iopub.execute_input": "2022-05-30T00:45:29.278456Z",
     "iopub.status.busy": "2022-05-30T00:45:29.278053Z",
     "iopub.status.idle": "2022-05-30T00:49:48.164133Z",
     "shell.execute_reply": "2022-05-30T00:49:48.163146Z"
    },
    "papermill": {
     "duration": 258.996441,
     "end_time": "2022-05-30T00:49:48.219690",
     "exception": false,
     "start_time": "2022-05-30T00:45:29.223249",
     "status": "completed"
    },
    "tags": []
   },
   "outputs": [
    {
     "data": {
      "text/plain": [
       "GradientBoostingClassifier(random_state=0)"
      ]
     },
     "execution_count": 35,
     "metadata": {},
     "output_type": "execute_result"
    }
   ],
   "source": [
    "from sklearn.ensemble import GradientBoostingClassifier\n",
    "\n",
    "GradBC = GradientBoostingClassifier(random_state=0)\n",
    "GradBC.fit(xv_train, y_train)"
   ]
  },
  {
   "cell_type": "code",
   "execution_count": 36,
   "id": "8b28a8f8",
   "metadata": {
    "execution": {
     "iopub.execute_input": "2022-05-30T00:49:48.335696Z",
     "iopub.status.busy": "2022-05-30T00:49:48.335410Z",
     "iopub.status.idle": "2022-05-30T00:49:48.372862Z",
     "shell.execute_reply": "2022-05-30T00:49:48.372111Z"
    },
    "papermill": {
     "duration": 0.098427,
     "end_time": "2022-05-30T00:49:48.375059",
     "exception": false,
     "start_time": "2022-05-30T00:49:48.276632",
     "status": "completed"
    },
    "tags": []
   },
   "outputs": [],
   "source": [
    "pred_gradbc = GradBC.predict(xv_test)"
   ]
  },
  {
   "cell_type": "code",
   "execution_count": 37,
   "id": "34f6bc03",
   "metadata": {
    "execution": {
     "iopub.execute_input": "2022-05-30T00:49:48.488088Z",
     "iopub.status.busy": "2022-05-30T00:49:48.487612Z",
     "iopub.status.idle": "2022-05-30T00:49:48.529141Z",
     "shell.execute_reply": "2022-05-30T00:49:48.527836Z"
    },
    "papermill": {
     "duration": 0.101364,
     "end_time": "2022-05-30T00:49:48.531359",
     "exception": false,
     "start_time": "2022-05-30T00:49:48.429995",
     "status": "completed"
    },
    "tags": []
   },
   "outputs": [
    {
     "data": {
      "text/plain": [
       "0.9954545454545455"
      ]
     },
     "execution_count": 37,
     "metadata": {},
     "output_type": "execute_result"
    }
   ],
   "source": [
    "GradBC.score(xv_test, y_test)"
   ]
  },
  {
   "cell_type": "code",
   "execution_count": 38,
   "id": "22ebe24f",
   "metadata": {
    "execution": {
     "iopub.execute_input": "2022-05-30T00:49:48.643662Z",
     "iopub.status.busy": "2022-05-30T00:49:48.642913Z",
     "iopub.status.idle": "2022-05-30T00:49:48.671001Z",
     "shell.execute_reply": "2022-05-30T00:49:48.670416Z"
    },
    "papermill": {
     "duration": 0.086075,
     "end_time": "2022-05-30T00:49:48.672864",
     "exception": false,
     "start_time": "2022-05-30T00:49:48.586789",
     "status": "completed"
    },
    "tags": []
   },
   "outputs": [
    {
     "name": "stdout",
     "output_type": "stream",
     "text": [
      "              precision    recall  f1-score   support\n",
      "\n",
      "           0       1.00      0.99      1.00      5885\n",
      "           1       0.99      1.00      1.00      5335\n",
      "\n",
      "    accuracy                           1.00     11220\n",
      "   macro avg       1.00      1.00      1.00     11220\n",
      "weighted avg       1.00      1.00      1.00     11220\n",
      "\n"
     ]
    }
   ],
   "source": [
    "print(classification_report(y_test, pred_gradbc))"
   ]
  },
  {
   "cell_type": "markdown",
   "id": "e2985302",
   "metadata": {
    "papermill": {
     "duration": 0.055524,
     "end_time": "2022-05-30T00:49:48.783890",
     "exception": false,
     "start_time": "2022-05-30T00:49:48.728366",
     "status": "completed"
    },
    "tags": []
   },
   "source": [
    "# TESTING THE PREDICTION MODELS"
   ]
  },
  {
   "cell_type": "code",
   "execution_count": 39,
   "id": "0dbfeef3",
   "metadata": {
    "execution": {
     "iopub.execute_input": "2022-05-30T00:49:48.898086Z",
     "iopub.status.busy": "2022-05-30T00:49:48.897550Z",
     "iopub.status.idle": "2022-05-30T00:49:48.905198Z",
     "shell.execute_reply": "2022-05-30T00:49:48.904334Z"
    },
    "papermill": {
     "duration": 0.066678,
     "end_time": "2022-05-30T00:49:48.907399",
     "exception": false,
     "start_time": "2022-05-30T00:49:48.840721",
     "status": "completed"
    },
    "tags": []
   },
   "outputs": [],
   "source": [
    "def output_lable(inp):\n",
    "    if inp == 0:\n",
    "        return \"Fake News\"\n",
    "    elif inp == 1:\n",
    "        return \"Not A Fake News\"\n",
    "    \n",
    "def manual_testing(news):\n",
    "    testingNews = {\"text\":[news]}\n",
    "    new_def_test = pd.DataFrame(testing_news)\n",
    "    new_def_test[\"text\"] = new_def_test[\"text\"].apply(wordopt) \n",
    "    new_x_test = new_def_test[\"text\"]\n",
    "    new_xv_test = vectorization.transform(new_x_test)\n",
    "    pred_LogReg = LogReg.predict(new_xv_test)\n",
    "    pred_DecTree = DecTree.predict(new_xv_test)\n",
    "    pred_GradBC = GradBC.predict(new_xv_test)\n",
    "\n",
    "    return print(\"\\n\\nLogistics Regression Prediction: {} \\nDecision Tree Classification Prediction: {} \\nGradient Boosting Classifier Prediction: {}\".format(output_lable(pred_LogReg[0]),\n",
    "                                                                                                                                                              output_lable(pred_DecTree[0]), \n",
    "                                                                                                                                                              output_lable(pred_GradBC[0])))"
   ]
  },
  {
   "cell_type": "code",
   "execution_count": null,
   "id": "dd8b012d",
   "metadata": {
    "papermill": {
     "duration": 0.056347,
     "end_time": "2022-05-30T00:49:49.018706",
     "exception": false,
     "start_time": "2022-05-30T00:49:48.962359",
     "status": "completed"
    },
    "tags": []
   },
   "outputs": [],
   "source": []
  }
 ],
 "metadata": {
  "kernelspec": {
   "display_name": "Python 3",
   "language": "python",
   "name": "python3"
  },
  "language_info": {
   "codemirror_mode": {
    "name": "ipython",
    "version": 3
   },
   "file_extension": ".py",
   "mimetype": "text/x-python",
   "name": "python",
   "nbconvert_exporter": "python",
   "pygments_lexer": "ipython3",
   "version": "3.7.12"
  },
  "papermill": {
   "default_parameters": {},
   "duration": 374.479143,
   "end_time": "2022-05-30T00:49:49.896499",
   "environment_variables": {},
   "exception": null,
   "input_path": "__notebook__.ipynb",
   "output_path": "__notebook__.ipynb",
   "parameters": {},
   "start_time": "2022-05-30T00:43:35.417356",
   "version": "2.3.4"
  }
 },
 "nbformat": 4,
 "nbformat_minor": 5
}
