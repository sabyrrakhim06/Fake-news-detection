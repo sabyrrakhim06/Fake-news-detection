{
 "cells": [
  {
   "cell_type": "markdown",
   "id": "3dfe1f3b",
   "metadata": {
    "papermill": {
     "duration": 0.036357,
     "end_time": "2022-05-25T06:01:28.316231",
     "exception": false,
     "start_time": "2022-05-25T06:01:28.279874",
     "status": "completed"
    },
    "tags": []
   },
   "source": [
    "# **FAKE NEWS DETECTION**"
   ]
  },
  {
   "cell_type": "markdown",
   "id": "65013934",
   "metadata": {
    "papermill": {
     "duration": 0.034455,
     "end_time": "2022-05-25T06:01:28.385895",
     "exception": false,
     "start_time": "2022-05-25T06:01:28.351440",
     "status": "completed"
    },
    "tags": []
   },
   "source": [
    "Let us first load the libraries:"
   ]
  },
  {
   "cell_type": "code",
   "execution_count": 1,
   "id": "5ed53ee2",
   "metadata": {
    "_cell_guid": "b1076dfc-b9ad-4769-8c92-a6c4dae69d19",
    "_uuid": "8f2839f25d086af736a60e9eeb907d3b93b6e0e5",
    "execution": {
     "iopub.execute_input": "2022-05-25T06:01:28.458083Z",
     "iopub.status.busy": "2022-05-25T06:01:28.457370Z",
     "iopub.status.idle": "2022-05-25T06:01:29.584050Z",
     "shell.execute_reply": "2022-05-25T06:01:29.583163Z"
    },
    "papermill": {
     "duration": 1.166023,
     "end_time": "2022-05-25T06:01:29.586792",
     "exception": false,
     "start_time": "2022-05-25T06:01:28.420769",
     "status": "completed"
    },
    "tags": []
   },
   "outputs": [],
   "source": [
    "import numpy as np # linear algebra\n",
    "import pandas as pd # data processing, CSV file I/O (e.g. pd.read_csv)\n",
    "\n",
    "import seaborn as sns\n",
    "import matplotlib.pyplot as plt\n",
    "\n",
    "import re\n",
    "import string\n",
    "\n",
    "from sklearn.model_selection import train_test_split\n",
    "from sklearn.metrics import accuracy_score\n",
    "from sklearn.metrics import classification_report"
   ]
  },
  {
   "cell_type": "markdown",
   "id": "d7b2403a",
   "metadata": {
    "papermill": {
     "duration": 0.034625,
     "end_time": "2022-05-25T06:01:29.655959",
     "exception": false,
     "start_time": "2022-05-25T06:01:29.621334",
     "status": "completed"
    },
    "tags": []
   },
   "source": [
    "Now, we import the dataset:"
   ]
  },
  {
   "cell_type": "code",
   "execution_count": 2,
   "id": "7b0e2adf",
   "metadata": {
    "execution": {
     "iopub.execute_input": "2022-05-25T06:01:29.729460Z",
     "iopub.status.busy": "2022-05-25T06:01:29.728612Z",
     "iopub.status.idle": "2022-05-25T06:01:32.357855Z",
     "shell.execute_reply": "2022-05-25T06:01:32.356971Z"
    },
    "papermill": {
     "duration": 2.669214,
     "end_time": "2022-05-25T06:01:32.360174",
     "exception": false,
     "start_time": "2022-05-25T06:01:29.690960",
     "status": "completed"
    },
    "tags": []
   },
   "outputs": [],
   "source": [
    "data_fake = pd.read_csv(\"../input/fake-news-detection-dataset/Fake.csv\")\n",
    "data_true = pd.read_csv(\"../input/fake-news-detection-dataset/True.csv\")"
   ]
  },
  {
   "cell_type": "code",
   "execution_count": 3,
   "id": "036fd048",
   "metadata": {
    "execution": {
     "iopub.execute_input": "2022-05-25T06:01:32.436675Z",
     "iopub.status.busy": "2022-05-25T06:01:32.435703Z",
     "iopub.status.idle": "2022-05-25T06:01:32.455520Z",
     "shell.execute_reply": "2022-05-25T06:01:32.454646Z"
    },
    "papermill": {
     "duration": 0.058865,
     "end_time": "2022-05-25T06:01:32.458141",
     "exception": false,
     "start_time": "2022-05-25T06:01:32.399276",
     "status": "completed"
    },
    "tags": []
   },
   "outputs": [
    {
     "data": {
      "text/html": [
       "<div>\n",
       "<style scoped>\n",
       "    .dataframe tbody tr th:only-of-type {\n",
       "        vertical-align: middle;\n",
       "    }\n",
       "\n",
       "    .dataframe tbody tr th {\n",
       "        vertical-align: top;\n",
       "    }\n",
       "\n",
       "    .dataframe thead th {\n",
       "        text-align: right;\n",
       "    }\n",
       "</style>\n",
       "<table border=\"1\" class=\"dataframe\">\n",
       "  <thead>\n",
       "    <tr style=\"text-align: right;\">\n",
       "      <th></th>\n",
       "      <th>title</th>\n",
       "      <th>text</th>\n",
       "      <th>subject</th>\n",
       "      <th>date</th>\n",
       "    </tr>\n",
       "  </thead>\n",
       "  <tbody>\n",
       "    <tr>\n",
       "      <th>0</th>\n",
       "      <td>Donald Trump Sends Out Embarrassing New Year’...</td>\n",
       "      <td>Donald Trump just couldn t wish all Americans ...</td>\n",
       "      <td>News</td>\n",
       "      <td>December 31, 2017</td>\n",
       "    </tr>\n",
       "    <tr>\n",
       "      <th>1</th>\n",
       "      <td>Drunk Bragging Trump Staffer Started Russian ...</td>\n",
       "      <td>House Intelligence Committee Chairman Devin Nu...</td>\n",
       "      <td>News</td>\n",
       "      <td>December 31, 2017</td>\n",
       "    </tr>\n",
       "    <tr>\n",
       "      <th>2</th>\n",
       "      <td>Sheriff David Clarke Becomes An Internet Joke...</td>\n",
       "      <td>On Friday, it was revealed that former Milwauk...</td>\n",
       "      <td>News</td>\n",
       "      <td>December 30, 2017</td>\n",
       "    </tr>\n",
       "    <tr>\n",
       "      <th>3</th>\n",
       "      <td>Trump Is So Obsessed He Even Has Obama’s Name...</td>\n",
       "      <td>On Christmas day, Donald Trump announced that ...</td>\n",
       "      <td>News</td>\n",
       "      <td>December 29, 2017</td>\n",
       "    </tr>\n",
       "    <tr>\n",
       "      <th>4</th>\n",
       "      <td>Pope Francis Just Called Out Donald Trump Dur...</td>\n",
       "      <td>Pope Francis used his annual Christmas Day mes...</td>\n",
       "      <td>News</td>\n",
       "      <td>December 25, 2017</td>\n",
       "    </tr>\n",
       "  </tbody>\n",
       "</table>\n",
       "</div>"
      ],
      "text/plain": [
       "                                               title  \\\n",
       "0   Donald Trump Sends Out Embarrassing New Year’...   \n",
       "1   Drunk Bragging Trump Staffer Started Russian ...   \n",
       "2   Sheriff David Clarke Becomes An Internet Joke...   \n",
       "3   Trump Is So Obsessed He Even Has Obama’s Name...   \n",
       "4   Pope Francis Just Called Out Donald Trump Dur...   \n",
       "\n",
       "                                                text subject  \\\n",
       "0  Donald Trump just couldn t wish all Americans ...    News   \n",
       "1  House Intelligence Committee Chairman Devin Nu...    News   \n",
       "2  On Friday, it was revealed that former Milwauk...    News   \n",
       "3  On Christmas day, Donald Trump announced that ...    News   \n",
       "4  Pope Francis used his annual Christmas Day mes...    News   \n",
       "\n",
       "                date  \n",
       "0  December 31, 2017  \n",
       "1  December 31, 2017  \n",
       "2  December 30, 2017  \n",
       "3  December 29, 2017  \n",
       "4  December 25, 2017  "
      ]
     },
     "execution_count": 3,
     "metadata": {},
     "output_type": "execute_result"
    }
   ],
   "source": [
    "data_fake.head()"
   ]
  },
  {
   "cell_type": "code",
   "execution_count": 4,
   "id": "f018084b",
   "metadata": {
    "execution": {
     "iopub.execute_input": "2022-05-25T06:01:32.532960Z",
     "iopub.status.busy": "2022-05-25T06:01:32.532089Z",
     "iopub.status.idle": "2022-05-25T06:01:32.541584Z",
     "shell.execute_reply": "2022-05-25T06:01:32.540777Z"
    },
    "papermill": {
     "duration": 0.049258,
     "end_time": "2022-05-25T06:01:32.543602",
     "exception": false,
     "start_time": "2022-05-25T06:01:32.494344",
     "status": "completed"
    },
    "tags": []
   },
   "outputs": [],
   "source": [
    "# Inserting a column \"class\" as target feature\n",
    "data_fake[\"class\"] = 0\n",
    "data_true[\"class\"] = 1"
   ]
  },
  {
   "cell_type": "code",
   "execution_count": 5,
   "id": "ce527291",
   "metadata": {
    "execution": {
     "iopub.execute_input": "2022-05-25T06:01:32.616909Z",
     "iopub.status.busy": "2022-05-25T06:01:32.616623Z",
     "iopub.status.idle": "2022-05-25T06:01:32.621823Z",
     "shell.execute_reply": "2022-05-25T06:01:32.621098Z"
    },
    "papermill": {
     "duration": 0.044107,
     "end_time": "2022-05-25T06:01:32.623769",
     "exception": false,
     "start_time": "2022-05-25T06:01:32.579662",
     "status": "completed"
    },
    "tags": []
   },
   "outputs": [
    {
     "data": {
      "text/plain": [
       "(23481, 5)"
      ]
     },
     "execution_count": 5,
     "metadata": {},
     "output_type": "execute_result"
    }
   ],
   "source": [
    "data_fake.shape"
   ]
  },
  {
   "cell_type": "code",
   "execution_count": 6,
   "id": "943c5b0f",
   "metadata": {
    "execution": {
     "iopub.execute_input": "2022-05-25T06:01:32.697249Z",
     "iopub.status.busy": "2022-05-25T06:01:32.696959Z",
     "iopub.status.idle": "2022-05-25T06:01:32.702187Z",
     "shell.execute_reply": "2022-05-25T06:01:32.701461Z"
    },
    "papermill": {
     "duration": 0.04431,
     "end_time": "2022-05-25T06:01:32.704049",
     "exception": false,
     "start_time": "2022-05-25T06:01:32.659739",
     "status": "completed"
    },
    "tags": []
   },
   "outputs": [
    {
     "data": {
      "text/plain": [
       "(21417, 5)"
      ]
     },
     "execution_count": 6,
     "metadata": {},
     "output_type": "execute_result"
    }
   ],
   "source": [
    "data_true.shape"
   ]
  },
  {
   "cell_type": "markdown",
   "id": "4cf19ac7",
   "metadata": {
    "papermill": {
     "duration": 0.035743,
     "end_time": "2022-05-25T06:01:32.776952",
     "exception": false,
     "start_time": "2022-05-25T06:01:32.741209",
     "status": "completed"
    },
    "tags": []
   },
   "source": [
    "Let us remove last 10 columns for manual testing"
   ]
  },
  {
   "cell_type": "code",
   "execution_count": 7,
   "id": "26b489c2",
   "metadata": {
    "execution": {
     "iopub.execute_input": "2022-05-25T06:01:32.852440Z",
     "iopub.status.busy": "2022-05-25T06:01:32.852141Z",
     "iopub.status.idle": "2022-05-25T06:01:32.911686Z",
     "shell.execute_reply": "2022-05-25T06:01:32.910960Z"
    },
    "papermill": {
     "duration": 0.099653,
     "end_time": "2022-05-25T06:01:32.913895",
     "exception": false,
     "start_time": "2022-05-25T06:01:32.814242",
     "status": "completed"
    },
    "tags": []
   },
   "outputs": [],
   "source": [
    "data_fake_manual_testing = data_fake.tail(10)\n",
    "for i in range(23480,23470,-1):\n",
    "    data_fake.drop([i], axis = 0, inplace = True)\n",
    "    \n",
    "    \n",
    "data_true_manual_testing = data_true.tail(10)\n",
    "for i in range(21416,21406,-1):\n",
    "    data_true.drop([i], axis = 0, inplace = True)"
   ]
  },
  {
   "cell_type": "code",
   "execution_count": 8,
   "id": "cde198af",
   "metadata": {
    "execution": {
     "iopub.execute_input": "2022-05-25T06:01:32.988660Z",
     "iopub.status.busy": "2022-05-25T06:01:32.988362Z",
     "iopub.status.idle": "2022-05-25T06:01:32.993853Z",
     "shell.execute_reply": "2022-05-25T06:01:32.993106Z"
    },
    "papermill": {
     "duration": 0.045314,
     "end_time": "2022-05-25T06:01:32.995909",
     "exception": false,
     "start_time": "2022-05-25T06:01:32.950595",
     "status": "completed"
    },
    "tags": []
   },
   "outputs": [
    {
     "data": {
      "text/plain": [
       "((23471, 5), (21407, 5))"
      ]
     },
     "execution_count": 8,
     "metadata": {},
     "output_type": "execute_result"
    }
   ],
   "source": [
    "data_fake.shape, data_true.shape"
   ]
  },
  {
   "cell_type": "markdown",
   "id": "7d8f2e6d",
   "metadata": {
    "papermill": {
     "duration": 0.036519,
     "end_time": "2022-05-25T06:01:33.069175",
     "exception": false,
     "start_time": "2022-05-25T06:01:33.032656",
     "status": "completed"
    },
    "tags": []
   },
   "source": [
    "Noice"
   ]
  },
  {
   "cell_type": "code",
   "execution_count": 9,
   "id": "6663986e",
   "metadata": {
    "execution": {
     "iopub.execute_input": "2022-05-25T06:01:33.144988Z",
     "iopub.status.busy": "2022-05-25T06:01:33.144367Z",
     "iopub.status.idle": "2022-05-25T06:01:33.150891Z",
     "shell.execute_reply": "2022-05-25T06:01:33.149981Z"
    },
    "papermill": {
     "duration": 0.046535,
     "end_time": "2022-05-25T06:01:33.152956",
     "exception": false,
     "start_time": "2022-05-25T06:01:33.106421",
     "status": "completed"
    },
    "tags": []
   },
   "outputs": [
    {
     "name": "stderr",
     "output_type": "stream",
     "text": [
      "/opt/conda/lib/python3.7/site-packages/ipykernel_launcher.py:1: SettingWithCopyWarning: \n",
      "A value is trying to be set on a copy of a slice from a DataFrame.\n",
      "Try using .loc[row_indexer,col_indexer] = value instead\n",
      "\n",
      "See the caveats in the documentation: https://pandas.pydata.org/pandas-docs/stable/user_guide/indexing.html#returning-a-view-versus-a-copy\n",
      "  \"\"\"Entry point for launching an IPython kernel.\n",
      "/opt/conda/lib/python3.7/site-packages/ipykernel_launcher.py:2: SettingWithCopyWarning: \n",
      "A value is trying to be set on a copy of a slice from a DataFrame.\n",
      "Try using .loc[row_indexer,col_indexer] = value instead\n",
      "\n",
      "See the caveats in the documentation: https://pandas.pydata.org/pandas-docs/stable/user_guide/indexing.html#returning-a-view-versus-a-copy\n",
      "  \n"
     ]
    }
   ],
   "source": [
    "data_fake_manual_testing[\"class\"] = 0\n",
    "data_true_manual_testing[\"class\"] = 1"
   ]
  },
  {
   "cell_type": "code",
   "execution_count": 10,
   "id": "a28b4332",
   "metadata": {
    "execution": {
     "iopub.execute_input": "2022-05-25T06:01:33.230265Z",
     "iopub.status.busy": "2022-05-25T06:01:33.229734Z",
     "iopub.status.idle": "2022-05-25T06:01:33.240896Z",
     "shell.execute_reply": "2022-05-25T06:01:33.240332Z"
    },
    "papermill": {
     "duration": 0.051827,
     "end_time": "2022-05-25T06:01:33.242745",
     "exception": false,
     "start_time": "2022-05-25T06:01:33.190918",
     "status": "completed"
    },
    "tags": []
   },
   "outputs": [
    {
     "data": {
      "text/html": [
       "<div>\n",
       "<style scoped>\n",
       "    .dataframe tbody tr th:only-of-type {\n",
       "        vertical-align: middle;\n",
       "    }\n",
       "\n",
       "    .dataframe tbody tr th {\n",
       "        vertical-align: top;\n",
       "    }\n",
       "\n",
       "    .dataframe thead th {\n",
       "        text-align: right;\n",
       "    }\n",
       "</style>\n",
       "<table border=\"1\" class=\"dataframe\">\n",
       "  <thead>\n",
       "    <tr style=\"text-align: right;\">\n",
       "      <th></th>\n",
       "      <th>title</th>\n",
       "      <th>text</th>\n",
       "      <th>subject</th>\n",
       "      <th>date</th>\n",
       "      <th>class</th>\n",
       "    </tr>\n",
       "  </thead>\n",
       "  <tbody>\n",
       "    <tr>\n",
       "      <th>23471</th>\n",
       "      <td>Seven Iranians freed in the prisoner swap have...</td>\n",
       "      <td>21st Century Wire says This week, the historic...</td>\n",
       "      <td>Middle-east</td>\n",
       "      <td>January 20, 2016</td>\n",
       "      <td>0</td>\n",
       "    </tr>\n",
       "    <tr>\n",
       "      <th>23472</th>\n",
       "      <td>#Hashtag Hell &amp; The Fake Left</td>\n",
       "      <td>By Dady Chery and Gilbert MercierAll writers ...</td>\n",
       "      <td>Middle-east</td>\n",
       "      <td>January 19, 2016</td>\n",
       "      <td>0</td>\n",
       "    </tr>\n",
       "    <tr>\n",
       "      <th>23473</th>\n",
       "      <td>Astroturfing: Journalist Reveals Brainwashing ...</td>\n",
       "      <td>Vic Bishop Waking TimesOur reality is carefull...</td>\n",
       "      <td>Middle-east</td>\n",
       "      <td>January 19, 2016</td>\n",
       "      <td>0</td>\n",
       "    </tr>\n",
       "    <tr>\n",
       "      <th>23474</th>\n",
       "      <td>The New American Century: An Era of Fraud</td>\n",
       "      <td>Paul Craig RobertsIn the last years of the 20t...</td>\n",
       "      <td>Middle-east</td>\n",
       "      <td>January 19, 2016</td>\n",
       "      <td>0</td>\n",
       "    </tr>\n",
       "    <tr>\n",
       "      <th>23475</th>\n",
       "      <td>Hillary Clinton: ‘Israel First’ (and no peace ...</td>\n",
       "      <td>Robert Fantina CounterpunchAlthough the United...</td>\n",
       "      <td>Middle-east</td>\n",
       "      <td>January 18, 2016</td>\n",
       "      <td>0</td>\n",
       "    </tr>\n",
       "    <tr>\n",
       "      <th>23476</th>\n",
       "      <td>McPain: John McCain Furious That Iran Treated ...</td>\n",
       "      <td>21st Century Wire says As 21WIRE reported earl...</td>\n",
       "      <td>Middle-east</td>\n",
       "      <td>January 16, 2016</td>\n",
       "      <td>0</td>\n",
       "    </tr>\n",
       "    <tr>\n",
       "      <th>23477</th>\n",
       "      <td>JUSTICE? Yahoo Settles E-mail Privacy Class-ac...</td>\n",
       "      <td>21st Century Wire says It s a familiar theme. ...</td>\n",
       "      <td>Middle-east</td>\n",
       "      <td>January 16, 2016</td>\n",
       "      <td>0</td>\n",
       "    </tr>\n",
       "    <tr>\n",
       "      <th>23478</th>\n",
       "      <td>Sunnistan: US and Allied ‘Safe Zone’ Plan to T...</td>\n",
       "      <td>Patrick Henningsen  21st Century WireRemember ...</td>\n",
       "      <td>Middle-east</td>\n",
       "      <td>January 15, 2016</td>\n",
       "      <td>0</td>\n",
       "    </tr>\n",
       "    <tr>\n",
       "      <th>23479</th>\n",
       "      <td>How to Blow $700 Million: Al Jazeera America F...</td>\n",
       "      <td>21st Century Wire says Al Jazeera America will...</td>\n",
       "      <td>Middle-east</td>\n",
       "      <td>January 14, 2016</td>\n",
       "      <td>0</td>\n",
       "    </tr>\n",
       "    <tr>\n",
       "      <th>23480</th>\n",
       "      <td>10 U.S. Navy Sailors Held by Iranian Military ...</td>\n",
       "      <td>21st Century Wire says As 21WIRE predicted in ...</td>\n",
       "      <td>Middle-east</td>\n",
       "      <td>January 12, 2016</td>\n",
       "      <td>0</td>\n",
       "    </tr>\n",
       "  </tbody>\n",
       "</table>\n",
       "</div>"
      ],
      "text/plain": [
       "                                                   title  \\\n",
       "23471  Seven Iranians freed in the prisoner swap have...   \n",
       "23472                      #Hashtag Hell & The Fake Left   \n",
       "23473  Astroturfing: Journalist Reveals Brainwashing ...   \n",
       "23474          The New American Century: An Era of Fraud   \n",
       "23475  Hillary Clinton: ‘Israel First’ (and no peace ...   \n",
       "23476  McPain: John McCain Furious That Iran Treated ...   \n",
       "23477  JUSTICE? Yahoo Settles E-mail Privacy Class-ac...   \n",
       "23478  Sunnistan: US and Allied ‘Safe Zone’ Plan to T...   \n",
       "23479  How to Blow $700 Million: Al Jazeera America F...   \n",
       "23480  10 U.S. Navy Sailors Held by Iranian Military ...   \n",
       "\n",
       "                                                    text      subject  \\\n",
       "23471  21st Century Wire says This week, the historic...  Middle-east   \n",
       "23472   By Dady Chery and Gilbert MercierAll writers ...  Middle-east   \n",
       "23473  Vic Bishop Waking TimesOur reality is carefull...  Middle-east   \n",
       "23474  Paul Craig RobertsIn the last years of the 20t...  Middle-east   \n",
       "23475  Robert Fantina CounterpunchAlthough the United...  Middle-east   \n",
       "23476  21st Century Wire says As 21WIRE reported earl...  Middle-east   \n",
       "23477  21st Century Wire says It s a familiar theme. ...  Middle-east   \n",
       "23478  Patrick Henningsen  21st Century WireRemember ...  Middle-east   \n",
       "23479  21st Century Wire says Al Jazeera America will...  Middle-east   \n",
       "23480  21st Century Wire says As 21WIRE predicted in ...  Middle-east   \n",
       "\n",
       "                   date  class  \n",
       "23471  January 20, 2016      0  \n",
       "23472  January 19, 2016      0  \n",
       "23473  January 19, 2016      0  \n",
       "23474  January 19, 2016      0  \n",
       "23475  January 18, 2016      0  \n",
       "23476  January 16, 2016      0  \n",
       "23477  January 16, 2016      0  \n",
       "23478  January 15, 2016      0  \n",
       "23479  January 14, 2016      0  \n",
       "23480  January 12, 2016      0  "
      ]
     },
     "execution_count": 10,
     "metadata": {},
     "output_type": "execute_result"
    }
   ],
   "source": [
    "data_fake_manual_testing.head(10)"
   ]
  },
  {
   "cell_type": "code",
   "execution_count": 11,
   "id": "02af0692",
   "metadata": {
    "execution": {
     "iopub.execute_input": "2022-05-25T06:01:33.331736Z",
     "iopub.status.busy": "2022-05-25T06:01:33.331204Z",
     "iopub.status.idle": "2022-05-25T06:01:33.343959Z",
     "shell.execute_reply": "2022-05-25T06:01:33.343152Z"
    },
    "papermill": {
     "duration": 0.055654,
     "end_time": "2022-05-25T06:01:33.346178",
     "exception": false,
     "start_time": "2022-05-25T06:01:33.290524",
     "status": "completed"
    },
    "tags": []
   },
   "outputs": [
    {
     "data": {
      "text/html": [
       "<div>\n",
       "<style scoped>\n",
       "    .dataframe tbody tr th:only-of-type {\n",
       "        vertical-align: middle;\n",
       "    }\n",
       "\n",
       "    .dataframe tbody tr th {\n",
       "        vertical-align: top;\n",
       "    }\n",
       "\n",
       "    .dataframe thead th {\n",
       "        text-align: right;\n",
       "    }\n",
       "</style>\n",
       "<table border=\"1\" class=\"dataframe\">\n",
       "  <thead>\n",
       "    <tr style=\"text-align: right;\">\n",
       "      <th></th>\n",
       "      <th>title</th>\n",
       "      <th>text</th>\n",
       "      <th>subject</th>\n",
       "      <th>date</th>\n",
       "      <th>class</th>\n",
       "    </tr>\n",
       "  </thead>\n",
       "  <tbody>\n",
       "    <tr>\n",
       "      <th>21407</th>\n",
       "      <td>Mata Pires, owner of embattled Brazil builder ...</td>\n",
       "      <td>SAO PAULO (Reuters) - Cesar Mata Pires, the ow...</td>\n",
       "      <td>worldnews</td>\n",
       "      <td>August 22, 2017</td>\n",
       "      <td>1</td>\n",
       "    </tr>\n",
       "    <tr>\n",
       "      <th>21408</th>\n",
       "      <td>U.S., North Korea clash at U.N. forum over nuc...</td>\n",
       "      <td>GENEVA (Reuters) - North Korea and the United ...</td>\n",
       "      <td>worldnews</td>\n",
       "      <td>August 22, 2017</td>\n",
       "      <td>1</td>\n",
       "    </tr>\n",
       "    <tr>\n",
       "      <th>21409</th>\n",
       "      <td>U.S., North Korea clash at U.N. arms forum on ...</td>\n",
       "      <td>GENEVA (Reuters) - North Korea and the United ...</td>\n",
       "      <td>worldnews</td>\n",
       "      <td>August 22, 2017</td>\n",
       "      <td>1</td>\n",
       "    </tr>\n",
       "    <tr>\n",
       "      <th>21410</th>\n",
       "      <td>Headless torso could belong to submarine journ...</td>\n",
       "      <td>COPENHAGEN (Reuters) - Danish police said on T...</td>\n",
       "      <td>worldnews</td>\n",
       "      <td>August 22, 2017</td>\n",
       "      <td>1</td>\n",
       "    </tr>\n",
       "    <tr>\n",
       "      <th>21411</th>\n",
       "      <td>North Korea shipments to Syria chemical arms a...</td>\n",
       "      <td>UNITED NATIONS (Reuters) - Two North Korean sh...</td>\n",
       "      <td>worldnews</td>\n",
       "      <td>August 21, 2017</td>\n",
       "      <td>1</td>\n",
       "    </tr>\n",
       "    <tr>\n",
       "      <th>21412</th>\n",
       "      <td>'Fully committed' NATO backs new U.S. approach...</td>\n",
       "      <td>BRUSSELS (Reuters) - NATO allies on Tuesday we...</td>\n",
       "      <td>worldnews</td>\n",
       "      <td>August 22, 2017</td>\n",
       "      <td>1</td>\n",
       "    </tr>\n",
       "    <tr>\n",
       "      <th>21413</th>\n",
       "      <td>LexisNexis withdrew two products from Chinese ...</td>\n",
       "      <td>LONDON (Reuters) - LexisNexis, a provider of l...</td>\n",
       "      <td>worldnews</td>\n",
       "      <td>August 22, 2017</td>\n",
       "      <td>1</td>\n",
       "    </tr>\n",
       "    <tr>\n",
       "      <th>21414</th>\n",
       "      <td>Minsk cultural hub becomes haven from authorities</td>\n",
       "      <td>MINSK (Reuters) - In the shadow of disused Sov...</td>\n",
       "      <td>worldnews</td>\n",
       "      <td>August 22, 2017</td>\n",
       "      <td>1</td>\n",
       "    </tr>\n",
       "    <tr>\n",
       "      <th>21415</th>\n",
       "      <td>Vatican upbeat on possibility of Pope Francis ...</td>\n",
       "      <td>MOSCOW (Reuters) - Vatican Secretary of State ...</td>\n",
       "      <td>worldnews</td>\n",
       "      <td>August 22, 2017</td>\n",
       "      <td>1</td>\n",
       "    </tr>\n",
       "    <tr>\n",
       "      <th>21416</th>\n",
       "      <td>Indonesia to buy $1.14 billion worth of Russia...</td>\n",
       "      <td>JAKARTA (Reuters) - Indonesia will buy 11 Sukh...</td>\n",
       "      <td>worldnews</td>\n",
       "      <td>August 22, 2017</td>\n",
       "      <td>1</td>\n",
       "    </tr>\n",
       "  </tbody>\n",
       "</table>\n",
       "</div>"
      ],
      "text/plain": [
       "                                                   title  \\\n",
       "21407  Mata Pires, owner of embattled Brazil builder ...   \n",
       "21408  U.S., North Korea clash at U.N. forum over nuc...   \n",
       "21409  U.S., North Korea clash at U.N. arms forum on ...   \n",
       "21410  Headless torso could belong to submarine journ...   \n",
       "21411  North Korea shipments to Syria chemical arms a...   \n",
       "21412  'Fully committed' NATO backs new U.S. approach...   \n",
       "21413  LexisNexis withdrew two products from Chinese ...   \n",
       "21414  Minsk cultural hub becomes haven from authorities   \n",
       "21415  Vatican upbeat on possibility of Pope Francis ...   \n",
       "21416  Indonesia to buy $1.14 billion worth of Russia...   \n",
       "\n",
       "                                                    text    subject  \\\n",
       "21407  SAO PAULO (Reuters) - Cesar Mata Pires, the ow...  worldnews   \n",
       "21408  GENEVA (Reuters) - North Korea and the United ...  worldnews   \n",
       "21409  GENEVA (Reuters) - North Korea and the United ...  worldnews   \n",
       "21410  COPENHAGEN (Reuters) - Danish police said on T...  worldnews   \n",
       "21411  UNITED NATIONS (Reuters) - Two North Korean sh...  worldnews   \n",
       "21412  BRUSSELS (Reuters) - NATO allies on Tuesday we...  worldnews   \n",
       "21413  LONDON (Reuters) - LexisNexis, a provider of l...  worldnews   \n",
       "21414  MINSK (Reuters) - In the shadow of disused Sov...  worldnews   \n",
       "21415  MOSCOW (Reuters) - Vatican Secretary of State ...  worldnews   \n",
       "21416  JAKARTA (Reuters) - Indonesia will buy 11 Sukh...  worldnews   \n",
       "\n",
       "                   date  class  \n",
       "21407  August 22, 2017       1  \n",
       "21408  August 22, 2017       1  \n",
       "21409  August 22, 2017       1  \n",
       "21410  August 22, 2017       1  \n",
       "21411  August 21, 2017       1  \n",
       "21412  August 22, 2017       1  \n",
       "21413  August 22, 2017       1  \n",
       "21414  August 22, 2017       1  \n",
       "21415  August 22, 2017       1  \n",
       "21416  August 22, 2017       1  "
      ]
     },
     "execution_count": 11,
     "metadata": {},
     "output_type": "execute_result"
    }
   ],
   "source": [
    " data_true_manual_testing.head(10)"
   ]
  },
  {
   "cell_type": "code",
   "execution_count": 12,
   "id": "6e7b93a0",
   "metadata": {
    "execution": {
     "iopub.execute_input": "2022-05-25T06:01:33.425130Z",
     "iopub.status.busy": "2022-05-25T06:01:33.424414Z",
     "iopub.status.idle": "2022-05-25T06:01:33.436453Z",
     "shell.execute_reply": "2022-05-25T06:01:33.435847Z"
    },
    "papermill": {
     "duration": 0.053468,
     "end_time": "2022-05-25T06:01:33.438339",
     "exception": false,
     "start_time": "2022-05-25T06:01:33.384871",
     "status": "completed"
    },
    "tags": []
   },
   "outputs": [],
   "source": [
    "data_manual_testing = pd.concat([data_fake_manual_testing,data_true_manual_testing], axis = 0)\n",
    "data_manual_testing.to_csv(\"manual_testing.csv\")"
   ]
  },
  {
   "cell_type": "code",
   "execution_count": 13,
   "id": "a96852b5",
   "metadata": {
    "execution": {
     "iopub.execute_input": "2022-05-25T06:01:33.517979Z",
     "iopub.status.busy": "2022-05-25T06:01:33.517399Z",
     "iopub.status.idle": "2022-05-25T06:01:33.534873Z",
     "shell.execute_reply": "2022-05-25T06:01:33.534276Z"
    },
    "papermill": {
     "duration": 0.058988,
     "end_time": "2022-05-25T06:01:33.536644",
     "exception": false,
     "start_time": "2022-05-25T06:01:33.477656",
     "status": "completed"
    },
    "tags": []
   },
   "outputs": [
    {
     "data": {
      "text/html": [
       "<div>\n",
       "<style scoped>\n",
       "    .dataframe tbody tr th:only-of-type {\n",
       "        vertical-align: middle;\n",
       "    }\n",
       "\n",
       "    .dataframe tbody tr th {\n",
       "        vertical-align: top;\n",
       "    }\n",
       "\n",
       "    .dataframe thead th {\n",
       "        text-align: right;\n",
       "    }\n",
       "</style>\n",
       "<table border=\"1\" class=\"dataframe\">\n",
       "  <thead>\n",
       "    <tr style=\"text-align: right;\">\n",
       "      <th></th>\n",
       "      <th>title</th>\n",
       "      <th>text</th>\n",
       "      <th>subject</th>\n",
       "      <th>date</th>\n",
       "      <th>class</th>\n",
       "    </tr>\n",
       "  </thead>\n",
       "  <tbody>\n",
       "    <tr>\n",
       "      <th>0</th>\n",
       "      <td>Donald Trump Sends Out Embarrassing New Year’...</td>\n",
       "      <td>Donald Trump just couldn t wish all Americans ...</td>\n",
       "      <td>News</td>\n",
       "      <td>December 31, 2017</td>\n",
       "      <td>0</td>\n",
       "    </tr>\n",
       "    <tr>\n",
       "      <th>1</th>\n",
       "      <td>Drunk Bragging Trump Staffer Started Russian ...</td>\n",
       "      <td>House Intelligence Committee Chairman Devin Nu...</td>\n",
       "      <td>News</td>\n",
       "      <td>December 31, 2017</td>\n",
       "      <td>0</td>\n",
       "    </tr>\n",
       "    <tr>\n",
       "      <th>2</th>\n",
       "      <td>Sheriff David Clarke Becomes An Internet Joke...</td>\n",
       "      <td>On Friday, it was revealed that former Milwauk...</td>\n",
       "      <td>News</td>\n",
       "      <td>December 30, 2017</td>\n",
       "      <td>0</td>\n",
       "    </tr>\n",
       "    <tr>\n",
       "      <th>3</th>\n",
       "      <td>Trump Is So Obsessed He Even Has Obama’s Name...</td>\n",
       "      <td>On Christmas day, Donald Trump announced that ...</td>\n",
       "      <td>News</td>\n",
       "      <td>December 29, 2017</td>\n",
       "      <td>0</td>\n",
       "    </tr>\n",
       "    <tr>\n",
       "      <th>4</th>\n",
       "      <td>Pope Francis Just Called Out Donald Trump Dur...</td>\n",
       "      <td>Pope Francis used his annual Christmas Day mes...</td>\n",
       "      <td>News</td>\n",
       "      <td>December 25, 2017</td>\n",
       "      <td>0</td>\n",
       "    </tr>\n",
       "    <tr>\n",
       "      <th>5</th>\n",
       "      <td>Racist Alabama Cops Brutalize Black Boy While...</td>\n",
       "      <td>The number of cases of cops brutalizing and ki...</td>\n",
       "      <td>News</td>\n",
       "      <td>December 25, 2017</td>\n",
       "      <td>0</td>\n",
       "    </tr>\n",
       "    <tr>\n",
       "      <th>6</th>\n",
       "      <td>Fresh Off The Golf Course, Trump Lashes Out A...</td>\n",
       "      <td>Donald Trump spent a good portion of his day a...</td>\n",
       "      <td>News</td>\n",
       "      <td>December 23, 2017</td>\n",
       "      <td>0</td>\n",
       "    </tr>\n",
       "    <tr>\n",
       "      <th>7</th>\n",
       "      <td>Trump Said Some INSANELY Racist Stuff Inside ...</td>\n",
       "      <td>In the wake of yet another court decision that...</td>\n",
       "      <td>News</td>\n",
       "      <td>December 23, 2017</td>\n",
       "      <td>0</td>\n",
       "    </tr>\n",
       "    <tr>\n",
       "      <th>8</th>\n",
       "      <td>Former CIA Director Slams Trump Over UN Bully...</td>\n",
       "      <td>Many people have raised the alarm regarding th...</td>\n",
       "      <td>News</td>\n",
       "      <td>December 22, 2017</td>\n",
       "      <td>0</td>\n",
       "    </tr>\n",
       "    <tr>\n",
       "      <th>9</th>\n",
       "      <td>WATCH: Brand-New Pro-Trump Ad Features So Muc...</td>\n",
       "      <td>Just when you might have thought we d get a br...</td>\n",
       "      <td>News</td>\n",
       "      <td>December 21, 2017</td>\n",
       "      <td>0</td>\n",
       "    </tr>\n",
       "  </tbody>\n",
       "</table>\n",
       "</div>"
      ],
      "text/plain": [
       "                                               title  \\\n",
       "0   Donald Trump Sends Out Embarrassing New Year’...   \n",
       "1   Drunk Bragging Trump Staffer Started Russian ...   \n",
       "2   Sheriff David Clarke Becomes An Internet Joke...   \n",
       "3   Trump Is So Obsessed He Even Has Obama’s Name...   \n",
       "4   Pope Francis Just Called Out Donald Trump Dur...   \n",
       "5   Racist Alabama Cops Brutalize Black Boy While...   \n",
       "6   Fresh Off The Golf Course, Trump Lashes Out A...   \n",
       "7   Trump Said Some INSANELY Racist Stuff Inside ...   \n",
       "8   Former CIA Director Slams Trump Over UN Bully...   \n",
       "9   WATCH: Brand-New Pro-Trump Ad Features So Muc...   \n",
       "\n",
       "                                                text subject  \\\n",
       "0  Donald Trump just couldn t wish all Americans ...    News   \n",
       "1  House Intelligence Committee Chairman Devin Nu...    News   \n",
       "2  On Friday, it was revealed that former Milwauk...    News   \n",
       "3  On Christmas day, Donald Trump announced that ...    News   \n",
       "4  Pope Francis used his annual Christmas Day mes...    News   \n",
       "5  The number of cases of cops brutalizing and ki...    News   \n",
       "6  Donald Trump spent a good portion of his day a...    News   \n",
       "7  In the wake of yet another court decision that...    News   \n",
       "8  Many people have raised the alarm regarding th...    News   \n",
       "9  Just when you might have thought we d get a br...    News   \n",
       "\n",
       "                date  class  \n",
       "0  December 31, 2017      0  \n",
       "1  December 31, 2017      0  \n",
       "2  December 30, 2017      0  \n",
       "3  December 29, 2017      0  \n",
       "4  December 25, 2017      0  \n",
       "5  December 25, 2017      0  \n",
       "6  December 23, 2017      0  \n",
       "7  December 23, 2017      0  \n",
       "8  December 22, 2017      0  \n",
       "9  December 21, 2017      0  "
      ]
     },
     "execution_count": 13,
     "metadata": {},
     "output_type": "execute_result"
    }
   ],
   "source": [
    "# Merging Fake and True Dataframes\n",
    "data_merge = pd.concat([data_fake, data_true], axis =0 )\n",
    "data_merge.head(10)"
   ]
  },
  {
   "cell_type": "code",
   "execution_count": 14,
   "id": "87212c35",
   "metadata": {
    "execution": {
     "iopub.execute_input": "2022-05-25T06:01:33.616507Z",
     "iopub.status.busy": "2022-05-25T06:01:33.616021Z",
     "iopub.status.idle": "2022-05-25T06:01:33.620858Z",
     "shell.execute_reply": "2022-05-25T06:01:33.620215Z"
    },
    "papermill": {
     "duration": 0.046138,
     "end_time": "2022-05-25T06:01:33.622527",
     "exception": false,
     "start_time": "2022-05-25T06:01:33.576389",
     "status": "completed"
    },
    "tags": []
   },
   "outputs": [
    {
     "data": {
      "text/plain": [
       "Index(['title', 'text', 'subject', 'date', 'class'], dtype='object')"
      ]
     },
     "execution_count": 14,
     "metadata": {},
     "output_type": "execute_result"
    }
   ],
   "source": [
    "data_merge.columns"
   ]
  },
  {
   "cell_type": "code",
   "execution_count": 15,
   "id": "e18e2cac",
   "metadata": {
    "execution": {
     "iopub.execute_input": "2022-05-25T06:01:33.703259Z",
     "iopub.status.busy": "2022-05-25T06:01:33.702751Z",
     "iopub.status.idle": "2022-05-25T06:01:33.709126Z",
     "shell.execute_reply": "2022-05-25T06:01:33.708454Z"
    },
    "papermill": {
     "duration": 0.049283,
     "end_time": "2022-05-25T06:01:33.710929",
     "exception": false,
     "start_time": "2022-05-25T06:01:33.661646",
     "status": "completed"
    },
    "tags": []
   },
   "outputs": [],
   "source": [
    "# Removing columns which are not required\n",
    "data = data_merge.drop([\"title\", \"subject\",\"date\"], axis = 1)"
   ]
  },
  {
   "cell_type": "code",
   "execution_count": 16,
   "id": "269a0258",
   "metadata": {
    "execution": {
     "iopub.execute_input": "2022-05-25T06:01:33.793602Z",
     "iopub.status.busy": "2022-05-25T06:01:33.793121Z",
     "iopub.status.idle": "2022-05-25T06:01:33.806948Z",
     "shell.execute_reply": "2022-05-25T06:01:33.806356Z"
    },
    "papermill": {
     "duration": 0.057284,
     "end_time": "2022-05-25T06:01:33.808701",
     "exception": false,
     "start_time": "2022-05-25T06:01:33.751417",
     "status": "completed"
    },
    "tags": []
   },
   "outputs": [
    {
     "data": {
      "text/plain": [
       "text     0\n",
       "class    0\n",
       "dtype: int64"
      ]
     },
     "execution_count": 16,
     "metadata": {},
     "output_type": "execute_result"
    }
   ],
   "source": [
    "data.isnull().sum()"
   ]
  },
  {
   "cell_type": "code",
   "execution_count": 17,
   "id": "51dcd36c",
   "metadata": {
    "execution": {
     "iopub.execute_input": "2022-05-25T06:01:33.889699Z",
     "iopub.status.busy": "2022-05-25T06:01:33.889228Z",
     "iopub.status.idle": "2022-05-25T06:01:33.900405Z",
     "shell.execute_reply": "2022-05-25T06:01:33.899868Z"
    },
    "papermill": {
     "duration": 0.053988,
     "end_time": "2022-05-25T06:01:33.902248",
     "exception": false,
     "start_time": "2022-05-25T06:01:33.848260",
     "status": "completed"
    },
    "tags": []
   },
   "outputs": [],
   "source": [
    "# Random Shuffling the dataframe\n",
    "data = data.sample(frac = 1)"
   ]
  },
  {
   "cell_type": "code",
   "execution_count": 18,
   "id": "79994cf7",
   "metadata": {
    "execution": {
     "iopub.execute_input": "2022-05-25T06:01:33.985119Z",
     "iopub.status.busy": "2022-05-25T06:01:33.984618Z",
     "iopub.status.idle": "2022-05-25T06:01:33.992582Z",
     "shell.execute_reply": "2022-05-25T06:01:33.992002Z"
    },
    "papermill": {
     "duration": 0.051229,
     "end_time": "2022-05-25T06:01:33.994327",
     "exception": false,
     "start_time": "2022-05-25T06:01:33.943098",
     "status": "completed"
    },
    "tags": []
   },
   "outputs": [
    {
     "data": {
      "text/html": [
       "<div>\n",
       "<style scoped>\n",
       "    .dataframe tbody tr th:only-of-type {\n",
       "        vertical-align: middle;\n",
       "    }\n",
       "\n",
       "    .dataframe tbody tr th {\n",
       "        vertical-align: top;\n",
       "    }\n",
       "\n",
       "    .dataframe thead th {\n",
       "        text-align: right;\n",
       "    }\n",
       "</style>\n",
       "<table border=\"1\" class=\"dataframe\">\n",
       "  <thead>\n",
       "    <tr style=\"text-align: right;\">\n",
       "      <th></th>\n",
       "      <th>text</th>\n",
       "      <th>class</th>\n",
       "    </tr>\n",
       "  </thead>\n",
       "  <tbody>\n",
       "    <tr>\n",
       "      <th>22549</th>\n",
       "      <td>21st Century Wire says This definitely needed ...</td>\n",
       "      <td>0</td>\n",
       "    </tr>\n",
       "    <tr>\n",
       "      <th>17516</th>\n",
       "      <td>LIMA (Reuters) - Peru s opposition-controlled ...</td>\n",
       "      <td>1</td>\n",
       "    </tr>\n",
       "    <tr>\n",
       "      <th>4971</th>\n",
       "      <td>A new report from the New York Times finds tha...</td>\n",
       "      <td>0</td>\n",
       "    </tr>\n",
       "    <tr>\n",
       "      <th>1434</th>\n",
       "      <td>Politico Congressional reporter Rachael Bade s...</td>\n",
       "      <td>0</td>\n",
       "    </tr>\n",
       "    <tr>\n",
       "      <th>1612</th>\n",
       "      <td>WASHINGTON (Reuters) - Republican leaders soug...</td>\n",
       "      <td>1</td>\n",
       "    </tr>\n",
       "  </tbody>\n",
       "</table>\n",
       "</div>"
      ],
      "text/plain": [
       "                                                    text  class\n",
       "22549  21st Century Wire says This definitely needed ...      0\n",
       "17516  LIMA (Reuters) - Peru s opposition-controlled ...      1\n",
       "4971   A new report from the New York Times finds tha...      0\n",
       "1434   Politico Congressional reporter Rachael Bade s...      0\n",
       "1612   WASHINGTON (Reuters) - Republican leaders soug...      1"
      ]
     },
     "execution_count": 18,
     "metadata": {},
     "output_type": "execute_result"
    }
   ],
   "source": [
    "data.head()"
   ]
  },
  {
   "cell_type": "code",
   "execution_count": 19,
   "id": "b6ad4e27",
   "metadata": {
    "execution": {
     "iopub.execute_input": "2022-05-25T06:01:34.079765Z",
     "iopub.status.busy": "2022-05-25T06:01:34.079284Z",
     "iopub.status.idle": "2022-05-25T06:01:34.087492Z",
     "shell.execute_reply": "2022-05-25T06:01:34.086980Z"
    },
    "papermill": {
     "duration": 0.052784,
     "end_time": "2022-05-25T06:01:34.089278",
     "exception": false,
     "start_time": "2022-05-25T06:01:34.036494",
     "status": "completed"
    },
    "tags": []
   },
   "outputs": [],
   "source": [
    "data.reset_index(inplace = True)\n",
    "data.drop([\"index\"], axis = 1, inplace = True)"
   ]
  },
  {
   "cell_type": "code",
   "execution_count": 20,
   "id": "99adb5bb",
   "metadata": {
    "execution": {
     "iopub.execute_input": "2022-05-25T06:01:34.172848Z",
     "iopub.status.busy": "2022-05-25T06:01:34.172369Z",
     "iopub.status.idle": "2022-05-25T06:01:34.177305Z",
     "shell.execute_reply": "2022-05-25T06:01:34.176485Z"
    },
    "papermill": {
     "duration": 0.04936,
     "end_time": "2022-05-25T06:01:34.179186",
     "exception": false,
     "start_time": "2022-05-25T06:01:34.129826",
     "status": "completed"
    },
    "tags": []
   },
   "outputs": [
    {
     "data": {
      "text/plain": [
       "Index(['text', 'class'], dtype='object')"
      ]
     },
     "execution_count": 20,
     "metadata": {},
     "output_type": "execute_result"
    }
   ],
   "source": [
    "data.columns"
   ]
  },
  {
   "cell_type": "code",
   "execution_count": 21,
   "id": "fdf7554e",
   "metadata": {
    "execution": {
     "iopub.execute_input": "2022-05-25T06:01:34.262992Z",
     "iopub.status.busy": "2022-05-25T06:01:34.262502Z",
     "iopub.status.idle": "2022-05-25T06:01:34.270266Z",
     "shell.execute_reply": "2022-05-25T06:01:34.269680Z"
    },
    "papermill": {
     "duration": 0.051992,
     "end_time": "2022-05-25T06:01:34.271956",
     "exception": false,
     "start_time": "2022-05-25T06:01:34.219964",
     "status": "completed"
    },
    "tags": []
   },
   "outputs": [
    {
     "data": {
      "text/html": [
       "<div>\n",
       "<style scoped>\n",
       "    .dataframe tbody tr th:only-of-type {\n",
       "        vertical-align: middle;\n",
       "    }\n",
       "\n",
       "    .dataframe tbody tr th {\n",
       "        vertical-align: top;\n",
       "    }\n",
       "\n",
       "    .dataframe thead th {\n",
       "        text-align: right;\n",
       "    }\n",
       "</style>\n",
       "<table border=\"1\" class=\"dataframe\">\n",
       "  <thead>\n",
       "    <tr style=\"text-align: right;\">\n",
       "      <th></th>\n",
       "      <th>text</th>\n",
       "      <th>class</th>\n",
       "    </tr>\n",
       "  </thead>\n",
       "  <tbody>\n",
       "    <tr>\n",
       "      <th>0</th>\n",
       "      <td>21st Century Wire says This definitely needed ...</td>\n",
       "      <td>0</td>\n",
       "    </tr>\n",
       "    <tr>\n",
       "      <th>1</th>\n",
       "      <td>LIMA (Reuters) - Peru s opposition-controlled ...</td>\n",
       "      <td>1</td>\n",
       "    </tr>\n",
       "    <tr>\n",
       "      <th>2</th>\n",
       "      <td>A new report from the New York Times finds tha...</td>\n",
       "      <td>0</td>\n",
       "    </tr>\n",
       "    <tr>\n",
       "      <th>3</th>\n",
       "      <td>Politico Congressional reporter Rachael Bade s...</td>\n",
       "      <td>0</td>\n",
       "    </tr>\n",
       "    <tr>\n",
       "      <th>4</th>\n",
       "      <td>WASHINGTON (Reuters) - Republican leaders soug...</td>\n",
       "      <td>1</td>\n",
       "    </tr>\n",
       "  </tbody>\n",
       "</table>\n",
       "</div>"
      ],
      "text/plain": [
       "                                                text  class\n",
       "0  21st Century Wire says This definitely needed ...      0\n",
       "1  LIMA (Reuters) - Peru s opposition-controlled ...      1\n",
       "2  A new report from the New York Times finds tha...      0\n",
       "3  Politico Congressional reporter Rachael Bade s...      0\n",
       "4  WASHINGTON (Reuters) - Republican leaders soug...      1"
      ]
     },
     "execution_count": 21,
     "metadata": {},
     "output_type": "execute_result"
    }
   ],
   "source": [
    "data.head()"
   ]
  },
  {
   "cell_type": "markdown",
   "id": "c824ba05",
   "metadata": {
    "papermill": {
     "duration": 0.041819,
     "end_time": "2022-05-25T06:01:34.355122",
     "exception": false,
     "start_time": "2022-05-25T06:01:34.313303",
     "status": "completed"
    },
    "tags": []
   },
   "source": []
  },
  {
   "cell_type": "code",
   "execution_count": 22,
   "id": "3b65a2c9",
   "metadata": {
    "execution": {
     "iopub.execute_input": "2022-05-25T06:01:34.439855Z",
     "iopub.status.busy": "2022-05-25T06:01:34.439350Z",
     "iopub.status.idle": "2022-05-25T06:01:34.445324Z",
     "shell.execute_reply": "2022-05-25T06:01:34.444787Z"
    },
    "papermill": {
     "duration": 0.050015,
     "end_time": "2022-05-25T06:01:34.447074",
     "exception": false,
     "start_time": "2022-05-25T06:01:34.397059",
     "status": "completed"
    },
    "tags": []
   },
   "outputs": [],
   "source": [
    "# Creating a function to process the texts\n",
    "def word_opt(text):\n",
    "    text = text.lower()\n",
    "    text = re.sub('\\[.*?\\]', '', text)\n",
    "    text = re.sub(\"\\\\W\",\" \",text) \n",
    "    text = re.sub('https?://\\S+|www\\.\\S+', '', text)\n",
    "    text = re.sub('<.*?>+', '', text)\n",
    "    text = re.sub('[%s]' % re.escape(string.punctuation), '', text)\n",
    "    text = re.sub('\\n', '', text)\n",
    "    text = re.sub('\\w*\\d\\w*', '', text)    \n",
    "    return text"
   ]
  },
  {
   "cell_type": "code",
   "execution_count": 23,
   "id": "0f5f7232",
   "metadata": {
    "execution": {
     "iopub.execute_input": "2022-05-25T06:01:34.533816Z",
     "iopub.status.busy": "2022-05-25T06:01:34.533329Z",
     "iopub.status.idle": "2022-05-25T06:02:13.263515Z",
     "shell.execute_reply": "2022-05-25T06:02:13.262655Z"
    },
    "papermill": {
     "duration": 38.776986,
     "end_time": "2022-05-25T06:02:13.265898",
     "exception": false,
     "start_time": "2022-05-25T06:01:34.488912",
     "status": "completed"
    },
    "tags": []
   },
   "outputs": [],
   "source": [
    "data[\"text\"] = data[\"text\"].apply(word_opt)"
   ]
  },
  {
   "cell_type": "code",
   "execution_count": 24,
   "id": "d7563185",
   "metadata": {
    "execution": {
     "iopub.execute_input": "2022-05-25T06:02:13.350918Z",
     "iopub.status.busy": "2022-05-25T06:02:13.350656Z",
     "iopub.status.idle": "2022-05-25T06:02:13.354474Z",
     "shell.execute_reply": "2022-05-25T06:02:13.353914Z"
    },
    "papermill": {
     "duration": 0.048562,
     "end_time": "2022-05-25T06:02:13.356331",
     "exception": false,
     "start_time": "2022-05-25T06:02:13.307769",
     "status": "completed"
    },
    "tags": []
   },
   "outputs": [],
   "source": [
    "# Defining dependent and independent variables\n",
    "x = data[\"text\"]\n",
    "y = data[\"class\"]"
   ]
  },
  {
   "cell_type": "code",
   "execution_count": 25,
   "id": "77536901",
   "metadata": {
    "execution": {
     "iopub.execute_input": "2022-05-25T06:02:13.442452Z",
     "iopub.status.busy": "2022-05-25T06:02:13.441916Z",
     "iopub.status.idle": "2022-05-25T06:02:13.453358Z",
     "shell.execute_reply": "2022-05-25T06:02:13.452745Z"
    },
    "papermill": {
     "duration": 0.056059,
     "end_time": "2022-05-25T06:02:13.455466",
     "exception": false,
     "start_time": "2022-05-25T06:02:13.399407",
     "status": "completed"
    },
    "tags": []
   },
   "outputs": [],
   "source": [
    "# Separating Training and Testing Data\n",
    "x_train, x_test, y_train, y_test = train_test_split(x, y, test_size=0.25)"
   ]
  },
  {
   "cell_type": "code",
   "execution_count": 26,
   "id": "97c13d91",
   "metadata": {
    "execution": {
     "iopub.execute_input": "2022-05-25T06:02:13.540992Z",
     "iopub.status.busy": "2022-05-25T06:02:13.540480Z",
     "iopub.status.idle": "2022-05-25T06:02:32.999238Z",
     "shell.execute_reply": "2022-05-25T06:02:32.998607Z"
    },
    "papermill": {
     "duration": 19.503988,
     "end_time": "2022-05-25T06:02:33.001321",
     "exception": false,
     "start_time": "2022-05-25T06:02:13.497333",
     "status": "completed"
    },
    "tags": []
   },
   "outputs": [],
   "source": [
    "# converting text to vectors\n",
    "from sklearn.feature_extraction.text import TfidfVectorizer\n",
    "\n",
    "vectorization = TfidfVectorizer()\n",
    "xv_train = vectorization.fit_transform(x_train)\n",
    "xv_test = vectorization.transform(x_test)"
   ]
  },
  {
   "cell_type": "markdown",
   "id": "bbda9ff7",
   "metadata": {
    "papermill": {
     "duration": 0.040726,
     "end_time": "2022-05-25T06:02:33.083436",
     "exception": false,
     "start_time": "2022-05-25T06:02:33.042710",
     "status": "completed"
    },
    "tags": []
   },
   "source": [
    "# Logistic Regression"
   ]
  },
  {
   "cell_type": "code",
   "execution_count": 27,
   "id": "1814f52b",
   "metadata": {
    "execution": {
     "iopub.execute_input": "2022-05-25T06:02:33.167536Z",
     "iopub.status.busy": "2022-05-25T06:02:33.167075Z",
     "iopub.status.idle": "2022-05-25T06:02:39.870579Z",
     "shell.execute_reply": "2022-05-25T06:02:39.869761Z"
    },
    "papermill": {
     "duration": 6.748519,
     "end_time": "2022-05-25T06:02:39.873199",
     "exception": false,
     "start_time": "2022-05-25T06:02:33.124680",
     "status": "completed"
    },
    "tags": []
   },
   "outputs": [
    {
     "data": {
      "text/plain": [
       "LogisticRegression()"
      ]
     },
     "execution_count": 27,
     "metadata": {},
     "output_type": "execute_result"
    }
   ],
   "source": [
    "from sklearn.linear_model import LogisticRegression\n",
    "\n",
    "LR = LogisticRegression()\n",
    "LR.fit(xv_train,y_train)"
   ]
  },
  {
   "cell_type": "code",
   "execution_count": 28,
   "id": "78f1046d",
   "metadata": {
    "execution": {
     "iopub.execute_input": "2022-05-25T06:02:40.004255Z",
     "iopub.status.busy": "2022-05-25T06:02:40.003976Z",
     "iopub.status.idle": "2022-05-25T06:02:40.014843Z",
     "shell.execute_reply": "2022-05-25T06:02:40.014177Z"
    },
    "papermill": {
     "duration": 0.0561,
     "end_time": "2022-05-25T06:02:40.016906",
     "exception": false,
     "start_time": "2022-05-25T06:02:39.960806",
     "status": "completed"
    },
    "tags": []
   },
   "outputs": [],
   "source": [
    "pred_lr = LR.predict(xv_test)"
   ]
  },
  {
   "cell_type": "code",
   "execution_count": 29,
   "id": "becbb6e9",
   "metadata": {
    "execution": {
     "iopub.execute_input": "2022-05-25T06:02:40.101071Z",
     "iopub.status.busy": "2022-05-25T06:02:40.100682Z",
     "iopub.status.idle": "2022-05-25T06:02:40.116000Z",
     "shell.execute_reply": "2022-05-25T06:02:40.115173Z"
    },
    "papermill": {
     "duration": 0.059357,
     "end_time": "2022-05-25T06:02:40.117871",
     "exception": false,
     "start_time": "2022-05-25T06:02:40.058514",
     "status": "completed"
    },
    "tags": []
   },
   "outputs": [
    {
     "data": {
      "text/plain": [
       "0.985650623885918"
      ]
     },
     "execution_count": 29,
     "metadata": {},
     "output_type": "execute_result"
    }
   ],
   "source": [
    "LR.score(xv_test, y_test)"
   ]
  },
  {
   "cell_type": "code",
   "execution_count": 30,
   "id": "d15e856f",
   "metadata": {
    "execution": {
     "iopub.execute_input": "2022-05-25T06:02:40.203269Z",
     "iopub.status.busy": "2022-05-25T06:02:40.203012Z",
     "iopub.status.idle": "2022-05-25T06:02:40.230584Z",
     "shell.execute_reply": "2022-05-25T06:02:40.229985Z"
    },
    "papermill": {
     "duration": 0.073409,
     "end_time": "2022-05-25T06:02:40.233121",
     "exception": false,
     "start_time": "2022-05-25T06:02:40.159712",
     "status": "completed"
    },
    "tags": []
   },
   "outputs": [
    {
     "name": "stdout",
     "output_type": "stream",
     "text": [
      "              precision    recall  f1-score   support\n",
      "\n",
      "           0       0.99      0.98      0.99      5949\n",
      "           1       0.98      0.99      0.98      5271\n",
      "\n",
      "    accuracy                           0.99     11220\n",
      "   macro avg       0.99      0.99      0.99     11220\n",
      "weighted avg       0.99      0.99      0.99     11220\n",
      "\n"
     ]
    }
   ],
   "source": [
    "print(classification_report(y_test, pred_lr))"
   ]
  },
  {
   "cell_type": "markdown",
   "id": "ef20d6c5",
   "metadata": {
    "papermill": {
     "duration": 0.042181,
     "end_time": "2022-05-25T06:02:40.318574",
     "exception": false,
     "start_time": "2022-05-25T06:02:40.276393",
     "status": "completed"
    },
    "tags": []
   },
   "source": [
    "# Decision Tree Classification"
   ]
  },
  {
   "cell_type": "code",
   "execution_count": null,
   "id": "264e9b22",
   "metadata": {
    "papermill": {
     "duration": 0.041977,
     "end_time": "2022-05-25T06:02:40.403237",
     "exception": false,
     "start_time": "2022-05-25T06:02:40.361260",
     "status": "completed"
    },
    "tags": []
   },
   "outputs": [],
   "source": []
  }
 ],
 "metadata": {
  "kernelspec": {
   "display_name": "Python 3",
   "language": "python",
   "name": "python3"
  },
  "language_info": {
   "codemirror_mode": {
    "name": "ipython",
    "version": 3
   },
   "file_extension": ".py",
   "mimetype": "text/x-python",
   "name": "python",
   "nbconvert_exporter": "python",
   "pygments_lexer": "ipython3",
   "version": "3.7.12"
  },
  "papermill": {
   "default_parameters": {},
   "duration": 81.992831,
   "end_time": "2022-05-25T06:02:41.166068",
   "environment_variables": {},
   "exception": null,
   "input_path": "__notebook__.ipynb",
   "output_path": "__notebook__.ipynb",
   "parameters": {},
   "start_time": "2022-05-25T06:01:19.173237",
   "version": "2.3.4"
  }
 },
 "nbformat": 4,
 "nbformat_minor": 5
}
